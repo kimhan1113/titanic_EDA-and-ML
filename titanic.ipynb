{
 "cells": [
  {
   "cell_type": "code",
   "execution_count": 1,
   "metadata": {},
   "outputs": [],
   "source": [
    "import numpy as np\n",
    "import pandas as pd\n",
    "import seaborn as sns\n",
    "import matplotlib.pyplot as plt\n",
    "import warnings\n",
    "import pandas_profiling as pp\n",
    "plt.style.use('seaborn')\n",
    "warnings.filterwarnings('ignore')\n",
    "%matplotlib inline\n",
    "\n",
    "COLOR = 'white'\n",
    "plt.rcParams['text.color'] = COLOR\n",
    "plt.rcParams['xtick.color'] = COLOR\n",
    "plt.rcParams['ytick.color'] = COLOR\n",
    "plt.rcParams['axes.labelcolor'] = COLOR\n",
    "\n",
    "\n"
   ]
  },
  {
   "cell_type": "code",
   "execution_count": 2,
   "metadata": {},
   "outputs": [],
   "source": [
    "data_ori = pd.read_csv('train.csv')"
   ]
  },
  {
   "cell_type": "code",
   "execution_count": 3,
   "metadata": {},
   "outputs": [
    {
     "data": {
      "application/vnd.jupyter.widget-view+json": {
       "model_id": "ca80ae9cf8a54da3be7cd64de3317283",
       "version_major": 2,
       "version_minor": 0
      },
      "text/plain": [
       "Tab(children=(HTML(value='<div id=\"overview-content\" class=\"row variable spacing\">\\n    <div class=\"row\">\\n   …"
      ]
     },
     "metadata": {},
     "output_type": "display_data"
    },
    {
     "data": {
      "text/html": [
       "Report generated with <a href=\"https://github.com/pandas-profiling/pandas-profiling\">pandas-profiling</a>."
      ],
      "text/plain": [
       "<IPython.core.display.HTML object>"
      ]
     },
     "metadata": {},
     "output_type": "display_data"
    },
    {
     "data": {
      "text/plain": []
     },
     "execution_count": 3,
     "metadata": {},
     "output_type": "execute_result"
    }
   ],
   "source": [
    "pp.ProfileReport(data_ori)"
   ]
  },
  {
   "cell_type": "code",
   "execution_count": 4,
   "metadata": {},
   "outputs": [],
   "source": [
    "# 데이터 프레임 복사\n",
    "data = data_ori.copy()"
   ]
  },
  {
   "cell_type": "code",
   "execution_count": 5,
   "metadata": {},
   "outputs": [
    {
     "data": {
      "text/html": [
       "<div>\n",
       "<style scoped>\n",
       "    .dataframe tbody tr th:only-of-type {\n",
       "        vertical-align: middle;\n",
       "    }\n",
       "\n",
       "    .dataframe tbody tr th {\n",
       "        vertical-align: top;\n",
       "    }\n",
       "\n",
       "    .dataframe thead th {\n",
       "        text-align: right;\n",
       "    }\n",
       "</style>\n",
       "<table border=\"1\" class=\"dataframe\">\n",
       "  <thead>\n",
       "    <tr style=\"text-align: right;\">\n",
       "      <th></th>\n",
       "      <th>PassengerId</th>\n",
       "      <th>Survived</th>\n",
       "      <th>Pclass</th>\n",
       "      <th>Name</th>\n",
       "      <th>Sex</th>\n",
       "      <th>Age</th>\n",
       "      <th>SibSp</th>\n",
       "      <th>Parch</th>\n",
       "      <th>Ticket</th>\n",
       "      <th>Fare</th>\n",
       "      <th>Cabin</th>\n",
       "      <th>Embarked</th>\n",
       "    </tr>\n",
       "  </thead>\n",
       "  <tbody>\n",
       "    <tr>\n",
       "      <th>0</th>\n",
       "      <td>1</td>\n",
       "      <td>0</td>\n",
       "      <td>3</td>\n",
       "      <td>Braund, Mr. Owen Harris</td>\n",
       "      <td>male</td>\n",
       "      <td>22.0</td>\n",
       "      <td>1</td>\n",
       "      <td>0</td>\n",
       "      <td>A/5 21171</td>\n",
       "      <td>7.2500</td>\n",
       "      <td>NaN</td>\n",
       "      <td>S</td>\n",
       "    </tr>\n",
       "    <tr>\n",
       "      <th>1</th>\n",
       "      <td>2</td>\n",
       "      <td>1</td>\n",
       "      <td>1</td>\n",
       "      <td>Cumings, Mrs. John Bradley (Florence Briggs Th...</td>\n",
       "      <td>female</td>\n",
       "      <td>38.0</td>\n",
       "      <td>1</td>\n",
       "      <td>0</td>\n",
       "      <td>PC 17599</td>\n",
       "      <td>71.2833</td>\n",
       "      <td>C85</td>\n",
       "      <td>C</td>\n",
       "    </tr>\n",
       "    <tr>\n",
       "      <th>2</th>\n",
       "      <td>3</td>\n",
       "      <td>1</td>\n",
       "      <td>3</td>\n",
       "      <td>Heikkinen, Miss. Laina</td>\n",
       "      <td>female</td>\n",
       "      <td>26.0</td>\n",
       "      <td>0</td>\n",
       "      <td>0</td>\n",
       "      <td>STON/O2. 3101282</td>\n",
       "      <td>7.9250</td>\n",
       "      <td>NaN</td>\n",
       "      <td>S</td>\n",
       "    </tr>\n",
       "    <tr>\n",
       "      <th>3</th>\n",
       "      <td>4</td>\n",
       "      <td>1</td>\n",
       "      <td>1</td>\n",
       "      <td>Futrelle, Mrs. Jacques Heath (Lily May Peel)</td>\n",
       "      <td>female</td>\n",
       "      <td>35.0</td>\n",
       "      <td>1</td>\n",
       "      <td>0</td>\n",
       "      <td>113803</td>\n",
       "      <td>53.1000</td>\n",
       "      <td>C123</td>\n",
       "      <td>S</td>\n",
       "    </tr>\n",
       "    <tr>\n",
       "      <th>4</th>\n",
       "      <td>5</td>\n",
       "      <td>0</td>\n",
       "      <td>3</td>\n",
       "      <td>Allen, Mr. William Henry</td>\n",
       "      <td>male</td>\n",
       "      <td>35.0</td>\n",
       "      <td>0</td>\n",
       "      <td>0</td>\n",
       "      <td>373450</td>\n",
       "      <td>8.0500</td>\n",
       "      <td>NaN</td>\n",
       "      <td>S</td>\n",
       "    </tr>\n",
       "  </tbody>\n",
       "</table>\n",
       "</div>"
      ],
      "text/plain": [
       "   PassengerId  Survived  Pclass  \\\n",
       "0            1         0       3   \n",
       "1            2         1       1   \n",
       "2            3         1       3   \n",
       "3            4         1       1   \n",
       "4            5         0       3   \n",
       "\n",
       "                                                Name     Sex   Age  SibSp  \\\n",
       "0                            Braund, Mr. Owen Harris    male  22.0      1   \n",
       "1  Cumings, Mrs. John Bradley (Florence Briggs Th...  female  38.0      1   \n",
       "2                             Heikkinen, Miss. Laina  female  26.0      0   \n",
       "3       Futrelle, Mrs. Jacques Heath (Lily May Peel)  female  35.0      1   \n",
       "4                           Allen, Mr. William Henry    male  35.0      0   \n",
       "\n",
       "   Parch            Ticket     Fare Cabin Embarked  \n",
       "0      0         A/5 21171   7.2500   NaN        S  \n",
       "1      0          PC 17599  71.2833   C85        C  \n",
       "2      0  STON/O2. 3101282   7.9250   NaN        S  \n",
       "3      0            113803  53.1000  C123        S  \n",
       "4      0            373450   8.0500   NaN        S  "
      ]
     },
     "execution_count": 5,
     "metadata": {},
     "output_type": "execute_result"
    }
   ],
   "source": [
    "data.head()"
   ]
  },
  {
   "cell_type": "code",
   "execution_count": 6,
   "metadata": {},
   "outputs": [
    {
     "data": {
      "image/png": "[encoded data removed]",
      "text/plain": [
       "<Figure size 1296x576 with 2 Axes>"
      ]
     },
     "metadata": {
      "needs_background": "dark"
     },
     "output_type": "display_data"
    }
   ],
   "source": [
    "f, ax = plt.subplots(1,2, figsize=(18,8))\n",
    "data['Survived'].value_counts().plot.pie(explode=[0, 0.1], autopct='%.2f%%', ax=ax[0], shadow=True)\n",
    "ax[0].set_title('Survived')\n",
    "sns.countplot('Survived', data=data, ax=ax[1])\n",
    "ax[1].set_title('Survived')\n",
    "ax[1].set_ylabel('Count')\n",
    "plt.show()"
   ]
  },
  {
   "cell_type": "code",
   "execution_count": 7,
   "metadata": {},
   "outputs": [
    {
     "data": {
      "text/html": [
       "<style  type=\"text/css\" >\n",
       "    #T_3d8caf1e_383c_11ea_a312_9cb6d0c4a2a0row0_col0 {\n",
       "            background-color:  #40004b;\n",
       "            color:  #f1f1f1;\n",
       "        }    #T_3d8caf1e_383c_11ea_a312_9cb6d0c4a2a0row0_col1 {\n",
       "            background-color:  #782e85;\n",
       "            color:  #f1f1f1;\n",
       "        }    #T_3d8caf1e_383c_11ea_a312_9cb6d0c4a2a0row0_col2 {\n",
       "            background-color:  #40004b;\n",
       "            color:  #f1f1f1;\n",
       "        }    #T_3d8caf1e_383c_11ea_a312_9cb6d0c4a2a0row1_col0 {\n",
       "            background-color:  #bb9cc9;\n",
       "            color:  #000000;\n",
       "        }    #T_3d8caf1e_383c_11ea_a312_9cb6d0c4a2a0row1_col1 {\n",
       "            background-color:  #591465;\n",
       "            color:  #f1f1f1;\n",
       "        }    #T_3d8caf1e_383c_11ea_a312_9cb6d0c4a2a0row1_col2 {\n",
       "            background-color:  #641c70;\n",
       "            color:  #f1f1f1;\n",
       "        }    #T_3d8caf1e_383c_11ea_a312_9cb6d0c4a2a0row2_col0 {\n",
       "            background-color:  #44034f;\n",
       "            color:  #f1f1f1;\n",
       "        }    #T_3d8caf1e_383c_11ea_a312_9cb6d0c4a2a0row2_col1 {\n",
       "            background-color:  #803f8f;\n",
       "            color:  #f1f1f1;\n",
       "        }    #T_3d8caf1e_383c_11ea_a312_9cb6d0c4a2a0row2_col2 {\n",
       "            background-color:  #4b0856;\n",
       "            color:  #f1f1f1;\n",
       "        }    #T_3d8caf1e_383c_11ea_a312_9cb6d0c4a2a0row3_col0 {\n",
       "            background-color:  #9f78b1;\n",
       "            color:  #000000;\n",
       "        }    #T_3d8caf1e_383c_11ea_a312_9cb6d0c4a2a0row3_col1 {\n",
       "            background-color:  #40004b;\n",
       "            color:  #f1f1f1;\n",
       "        }    #T_3d8caf1e_383c_11ea_a312_9cb6d0c4a2a0row3_col2 {\n",
       "            background-color:  #44034f;\n",
       "            color:  #f1f1f1;\n",
       "        }    #T_3d8caf1e_383c_11ea_a312_9cb6d0c4a2a0row4_col0 {\n",
       "            background-color:  #a17ab2;\n",
       "            color:  #000000;\n",
       "        }    #T_3d8caf1e_383c_11ea_a312_9cb6d0c4a2a0row4_col1 {\n",
       "            background-color:  #f5f7f5;\n",
       "            color:  #000000;\n",
       "        }    #T_3d8caf1e_383c_11ea_a312_9cb6d0c4a2a0row4_col2 {\n",
       "            background-color:  #d8c2de;\n",
       "            color:  #000000;\n",
       "        }    #T_3d8caf1e_383c_11ea_a312_9cb6d0c4a2a0row5_col0 {\n",
       "            background-color:  #a17ab2;\n",
       "            color:  #000000;\n",
       "        }    #T_3d8caf1e_383c_11ea_a312_9cb6d0c4a2a0row5_col1 {\n",
       "            background-color:  #5c1568;\n",
       "            color:  #f1f1f1;\n",
       "        }    #T_3d8caf1e_383c_11ea_a312_9cb6d0c4a2a0row5_col2 {\n",
       "            background-color:  #591465;\n",
       "            color:  #f1f1f1;\n",
       "        }    #T_3d8caf1e_383c_11ea_a312_9cb6d0c4a2a0row6_col0 {\n",
       "            background-color:  #00441b;\n",
       "            color:  #f1f1f1;\n",
       "        }    #T_3d8caf1e_383c_11ea_a312_9cb6d0c4a2a0row6_col1 {\n",
       "            background-color:  #00441b;\n",
       "            color:  #f1f1f1;\n",
       "        }    #T_3d8caf1e_383c_11ea_a312_9cb6d0c4a2a0row6_col2 {\n",
       "            background-color:  #00441b;\n",
       "            color:  #f1f1f1;\n",
       "        }</style><table id=\"T_3d8caf1e_383c_11ea_a312_9cb6d0c4a2a0\" ><thead>    <tr>        <th class=\"blank\" ></th>        <th class=\"index_name level0\" >Sex</th>        <th class=\"col_heading level0 col0\" >female</th>        <th class=\"col_heading level0 col1\" >male</th>        <th class=\"col_heading level0 col2\" >All</th>    </tr>    <tr>        <th class=\"index_name level0\" >Pclass</th>        <th class=\"index_name level1\" >Survived</th>        <th class=\"blank\" ></th>        <th class=\"blank\" ></th>        <th class=\"blank\" ></th>    </tr></thead><tbody>\n",
       "                <tr>\n",
       "                        <th id=\"T_3d8caf1e_383c_11ea_a312_9cb6d0c4a2a0level0_row0\" class=\"row_heading level0 row0\" rowspan=2>1</th>\n",
       "                        <th id=\"T_3d8caf1e_383c_11ea_a312_9cb6d0c4a2a0level1_row0\" class=\"row_heading level1 row0\" >0</th>\n",
       "                        <td id=\"T_3d8caf1e_383c_11ea_a312_9cb6d0c4a2a0row0_col0\" class=\"data row0 col0\" >3</td>\n",
       "                        <td id=\"T_3d8caf1e_383c_11ea_a312_9cb6d0c4a2a0row0_col1\" class=\"data row0 col1\" >77</td>\n",
       "                        <td id=\"T_3d8caf1e_383c_11ea_a312_9cb6d0c4a2a0row0_col2\" class=\"data row0 col2\" >80</td>\n",
       "            </tr>\n",
       "            <tr>\n",
       "                                <th id=\"T_3d8caf1e_383c_11ea_a312_9cb6d0c4a2a0level1_row1\" class=\"row_heading level1 row1\" >1</th>\n",
       "                        <td id=\"T_3d8caf1e_383c_11ea_a312_9cb6d0c4a2a0row1_col0\" class=\"data row1 col0\" >91</td>\n",
       "                        <td id=\"T_3d8caf1e_383c_11ea_a312_9cb6d0c4a2a0row1_col1\" class=\"data row1 col1\" >45</td>\n",
       "                        <td id=\"T_3d8caf1e_383c_11ea_a312_9cb6d0c4a2a0row1_col2\" class=\"data row1 col2\" >136</td>\n",
       "            </tr>\n",
       "            <tr>\n",
       "                        <th id=\"T_3d8caf1e_383c_11ea_a312_9cb6d0c4a2a0level0_row2\" class=\"row_heading level0 row2\" rowspan=2>2</th>\n",
       "                        <th id=\"T_3d8caf1e_383c_11ea_a312_9cb6d0c4a2a0level1_row2\" class=\"row_heading level1 row2\" >0</th>\n",
       "                        <td id=\"T_3d8caf1e_383c_11ea_a312_9cb6d0c4a2a0row2_col0\" class=\"data row2 col0\" >6</td>\n",
       "                        <td id=\"T_3d8caf1e_383c_11ea_a312_9cb6d0c4a2a0row2_col1\" class=\"data row2 col1\" >91</td>\n",
       "                        <td id=\"T_3d8caf1e_383c_11ea_a312_9cb6d0c4a2a0row2_col2\" class=\"data row2 col2\" >97</td>\n",
       "            </tr>\n",
       "            <tr>\n",
       "                                <th id=\"T_3d8caf1e_383c_11ea_a312_9cb6d0c4a2a0level1_row3\" class=\"row_heading level1 row3\" >1</th>\n",
       "                        <td id=\"T_3d8caf1e_383c_11ea_a312_9cb6d0c4a2a0row3_col0\" class=\"data row3 col0\" >70</td>\n",
       "                        <td id=\"T_3d8caf1e_383c_11ea_a312_9cb6d0c4a2a0row3_col1\" class=\"data row3 col1\" >17</td>\n",
       "                        <td id=\"T_3d8caf1e_383c_11ea_a312_9cb6d0c4a2a0row3_col2\" class=\"data row3 col2\" >87</td>\n",
       "            </tr>\n",
       "            <tr>\n",
       "                        <th id=\"T_3d8caf1e_383c_11ea_a312_9cb6d0c4a2a0level0_row4\" class=\"row_heading level0 row4\" rowspan=2>3</th>\n",
       "                        <th id=\"T_3d8caf1e_383c_11ea_a312_9cb6d0c4a2a0level1_row4\" class=\"row_heading level1 row4\" >0</th>\n",
       "                        <td id=\"T_3d8caf1e_383c_11ea_a312_9cb6d0c4a2a0row4_col0\" class=\"data row4 col0\" >72</td>\n",
       "                        <td id=\"T_3d8caf1e_383c_11ea_a312_9cb6d0c4a2a0row4_col1\" class=\"data row4 col1\" >300</td>\n",
       "                        <td id=\"T_3d8caf1e_383c_11ea_a312_9cb6d0c4a2a0row4_col2\" class=\"data row4 col2\" >372</td>\n",
       "            </tr>\n",
       "            <tr>\n",
       "                                <th id=\"T_3d8caf1e_383c_11ea_a312_9cb6d0c4a2a0level1_row5\" class=\"row_heading level1 row5\" >1</th>\n",
       "                        <td id=\"T_3d8caf1e_383c_11ea_a312_9cb6d0c4a2a0row5_col0\" class=\"data row5 col0\" >72</td>\n",
       "                        <td id=\"T_3d8caf1e_383c_11ea_a312_9cb6d0c4a2a0row5_col1\" class=\"data row5 col1\" >47</td>\n",
       "                        <td id=\"T_3d8caf1e_383c_11ea_a312_9cb6d0c4a2a0row5_col2\" class=\"data row5 col2\" >119</td>\n",
       "            </tr>\n",
       "            <tr>\n",
       "                        <th id=\"T_3d8caf1e_383c_11ea_a312_9cb6d0c4a2a0level0_row6\" class=\"row_heading level0 row6\" >All</th>\n",
       "                        <th id=\"T_3d8caf1e_383c_11ea_a312_9cb6d0c4a2a0level1_row6\" class=\"row_heading level1 row6\" ></th>\n",
       "                        <td id=\"T_3d8caf1e_383c_11ea_a312_9cb6d0c4a2a0row6_col0\" class=\"data row6 col0\" >314</td>\n",
       "                        <td id=\"T_3d8caf1e_383c_11ea_a312_9cb6d0c4a2a0row6_col1\" class=\"data row6 col1\" >577</td>\n",
       "                        <td id=\"T_3d8caf1e_383c_11ea_a312_9cb6d0c4a2a0row6_col2\" class=\"data row6 col2\" >891</td>\n",
       "            </tr>\n",
       "    </tbody></table>"
      ],
      "text/plain": [
       "<pandas.io.formats.style.Styler at 0x266041b3320>"
      ]
     },
     "execution_count": 7,
     "metadata": {},
     "output_type": "execute_result"
    }
   ],
   "source": [
    "pd.crosstab([data.Pclass,data.Survived],data.Sex,margins=True).style.background_gradient(cmap='PRGn')"
   ]
  },
  {
   "cell_type": "code",
   "execution_count": 8,
   "metadata": {},
   "outputs": [
    {
     "data": {
      "text/plain": [
       "Sex     Survived\n",
       "female  0            81\n",
       "        1           233\n",
       "male    0           468\n",
       "        1           109\n",
       "Name: Survived, dtype: int64"
      ]
     },
     "execution_count": 8,
     "metadata": {},
     "output_type": "execute_result"
    }
   ],
   "source": [
    "data.groupby(['Sex', 'Survived'])['Survived'].count()"
   ]
  },
  {
   "cell_type": "code",
   "execution_count": 23,
   "metadata": {},
   "outputs": [
    {
     "data": {
      "image/png": "[encoded data removed]",
      "text/plain": [
       "<Figure size 432x288 with 1 Axes>"
      ]
     },
     "metadata": {
      "needs_background": "dark"
     },
     "output_type": "display_data"
    }
   ],
   "source": [
    "\n",
    "data[['Sex','Survived']].groupby(['Sex']).mean().plot.bar()\n",
    "\n",
    "#배경, 레이블회전 \n",
    "n_points = data.shape[0]\n",
    "id_counts = data['Survived'].value_counts()\n",
    "fig  = plt.gca()\n",
    "locs, labels = plt.xticks(rotation=360)\n",
    "# print(locs,labels)\n",
    "plt.show()"
   ]
  },
  {
   "cell_type": "code",
   "execution_count": 31,
   "metadata": {},
   "outputs": [
    {
     "data": {
      "image/png": "[encoded data removed]",
      "text/plain": [
       "<Figure size 432x288 with 1 Axes>"
      ]
     },
     "metadata": {
      "needs_background": "dark"
     },
     "output_type": "display_data"
    }
   ],
   "source": [
    "plt.rcParams['text.color'] = 'w'\n",
    "plt.rcParams['axes.labelcolor'] = 'w'\n",
    "plt.rcParams['xtick.color'] = 'w'\n",
    "plt.rcParams['ytick.color'] = 'w'\n",
    "\n",
    "sns.countplot(data = data, x = 'Survived')\n",
    "n_points = data.shape[0]\n",
    "# add annotations\n",
    "sur_counts = data['Survived'].value_counts()\n",
    "locs, labels = plt.xticks() # get the current tick locations and labels\n",
    "\n",
    "# loop through each pair of locations and labels\n",
    "for loc, label in zip(locs, labels):\n",
    "\n",
    "\t# get the text property for the label to get the correct count\n",
    "    count = sur_counts[int(label.get_text())]\n",
    "    pct_string = '{:0.2f}%'.format(100*count/n_points)\n",
    "\n",
    "    # print the annotation just below the top of the bar\n",
    "    plt.text(loc, count-8, pct_string, ha = 'center', color = 'black')"
   ]
  },
  {
   "cell_type": "code",
   "execution_count": 39,
   "metadata": {},
   "outputs": [
    {
     "data": {
      "image/png": "[encoded data removed]",
      "text/plain": [
       "<Figure size 432x288 with 1 Axes>"
      ]
     },
     "metadata": {
      "needs_background": "dark"
     },
     "output_type": "display_data"
    }
   ],
   "source": [
    "sns.countplot('Survived', hue='Sex', data=data)\n",
    "plt.ylabel('')\n",
    "plt.show()"
   ]
  },
  {
   "cell_type": "code",
   "execution_count": 38,
   "metadata": {},
   "outputs": [
    {
     "name": "stdout",
     "output_type": "stream",
     "text": [
      "0    0.616162\n",
      "1    0.383838\n",
      "Name: Survived, dtype: float64\n"
     ]
    },
    {
     "data": {
      "image/png": "[encoded data removed]",
      "text/plain": [
       "<Figure size 720x432 with 1 Axes>"
      ]
     },
     "metadata": {
      "needs_background": "dark"
     },
     "output_type": "display_data"
    }
   ],
   "source": [
    "plt.figure(figsize=(10,6))\n",
    "ax = sns.countplot(data.Survived,hue=data['Sex'],order = \n",
    "data['Survived'].value_counts().index)\n",
    "plt.title(\"Survived VS Sex\",fontsize=15)\n",
    "plt.tight_layout()\n",
    "\n",
    "plt.xticks(fontsize=14)\n",
    "plt.yticks(fontsize=14)\n",
    "\n",
    "total = float(len(data))\n",
    "for p in ax.patches:\n",
    "    height = p.get_height()\n",
    "    ax.text(p.get_x()+p.get_width()/2.,\n",
    "        height + 3,\n",
    "        '{0:.1%}'.format(height/total),\n",
    "        ha=\"center\", fontsize=15, color='black')\n",
    "\n",
    "print(data['Survived'].value_counts(normalize=True))"
   ]
  },
  {
   "cell_type": "code",
   "execution_count": 10,
   "metadata": {},
   "outputs": [
    {
     "data": {
      "image/png": "[encoded data removed]",
      "text/plain": [
       "<Figure size 864x576 with 2 Axes>"
      ]
     },
     "metadata": {
      "needs_background": "dark"
     },
     "output_type": "display_data"
    }
   ],
   "source": [
    "f , ax = plt.subplots(1,2, figsize=(12,8))\n",
    "f = data['Pclass'].value_counts().plot.pie(explode=[0, 0, 0.1],autopct='%.2f%%',ax=ax[0], shadow=True)\n",
    "\n",
    "# 색을 넣고 싶을 때\n",
    "'''\n",
    "data['Pclass'].value_counts().plot.bar(color=['#CD7F32', '#FFDF00', '#D3D3D3']. ax=ax[0])\n",
    "'''\n",
    "\n",
    "#subplot에서 xtick label회전하기\n",
    "\n",
    "'''\n",
    "f.set_xticklabels(f.get_xticklabels(), rotation=360,\n",
    "                  horizontalalignment='right',\n",
    "                  fontweight='light',                 \n",
    "                 )\n",
    "'''\n",
    "\n",
    "# countplot 정렬하기\n",
    "sns.countplot('Pclass', data=data, ax=ax[1], order = data['Pclass'].value_counts().index)\n",
    "\n",
    "plt.show()"
   ]
  },
  {
   "cell_type": "code",
   "execution_count": 11,
   "metadata": {},
   "outputs": [
    {
     "data": {
      "text/plain": [
       "<seaborn.axisgrid.FacetGrid at 0x1603109e708>"
      ]
     },
     "execution_count": 11,
     "metadata": {},
     "output_type": "execute_result"
    },
    {
     "data": {
      "image/png": "[encoded data removed]",
      "text/plain": [
       "<Figure size 426.125x360 with 1 Axes>"
      ]
     },
     "metadata": {
      "needs_background": "dark"
     },
     "output_type": "display_data"
    }
   ],
   "source": [
    "sns.factorplot('Pclass','Survived', hue='Sex', data=data)\n"
   ]
  },
  {
   "cell_type": "code",
   "execution_count": 12,
   "metadata": {},
   "outputs": [
    {
     "data": {
      "text/plain": [
       "<matplotlib.axes._subplots.AxesSubplot at 0x160311e7e08>"
      ]
     },
     "execution_count": 12,
     "metadata": {},
     "output_type": "execute_result"
    },
    {
     "data": {
      "image/png": "[encoded data removed]",
      "text/plain": [
       "<Figure size 432x288 with 1 Axes>"
      ]
     },
     "metadata": {
      "needs_background": "dark"
     },
     "output_type": "display_data"
    }
   ],
   "source": [
    "sns.violinplot('Pclass','Age', hue='Survived', split=True, data=data)\n",
    "#split=True로 인하여 두 항목이 같이 표기 된다"
   ]
  },
  {
   "cell_type": "code",
   "execution_count": 13,
   "metadata": {},
   "outputs": [
    {
     "data": {
      "text/plain": [
       "0        Mr\n",
       "1       Mrs\n",
       "2      Miss\n",
       "3       Mrs\n",
       "4        Mr\n",
       "       ... \n",
       "886     Rev\n",
       "887    Miss\n",
       "888    Miss\n",
       "889      Mr\n",
       "890      Mr\n",
       "Name: Initial, Length: 891, dtype: object"
      ]
     },
     "execution_count": 13,
     "metadata": {},
     "output_type": "execute_result"
    }
   ],
   "source": [
    "data['Initial'] = 0\n",
    "for i in data:\n",
    "    data['Initial'] = data.Name.str.extract('([A-Za-z]+)\\.')\n",
    "data['Initial']\n",
    "\n",
    "# 공백 기준으로 이름 따오기\n",
    "\n",
    "# data['First'] = 0\n",
    "# for i in data:\n",
    "#     data['First'] = data.Name.str.split(expand=True)[1]\n",
    "# data['First']"
   ]
  },
  {
   "cell_type": "code",
   "execution_count": 14,
   "metadata": {},
   "outputs": [
    {
     "data": {
      "text/plain": [
       "0                              Braund, Mr. Owen Harris\n",
       "1    Cumings, Mrs. John Bradley (Florence Briggs Th...\n",
       "2                               Heikkinen, Miss. Laina\n",
       "3         Futrelle, Mrs. Jacques Heath (Lily May Peel)\n",
       "4                             Allen, Mr. William Henry\n",
       "5                                     Moran, Mr. James\n",
       "6                              McCarthy, Mr. Timothy J\n",
       "7                       Palsson, Master. Gosta Leonard\n",
       "8    Johnson, Mrs. Oscar W (Elisabeth Vilhelmina Berg)\n",
       "9                  Nasser, Mrs. Nicholas (Adele Achem)\n",
       "Name: Name, dtype: object"
      ]
     },
     "execution_count": 14,
     "metadata": {},
     "output_type": "execute_result"
    }
   ],
   "source": [
    "data['Name'].head(10)"
   ]
  },
  {
   "cell_type": "code",
   "execution_count": 15,
   "metadata": {},
   "outputs": [
    {
     "data": {
      "text/html": [
       "<style  type=\"text/css\" >\n",
       "    #T_a134a9b4_3757_11ea_9f51_9cb6d0c4a2a0row0_col0 {\n",
       "            background-color:  #40004b;\n",
       "            color:  #f1f1f1;\n",
       "        }    #T_a134a9b4_3757_11ea_9f51_9cb6d0c4a2a0row0_col1 {\n",
       "            background-color:  #40004b;\n",
       "            color:  #f1f1f1;\n",
       "        }    #T_a134a9b4_3757_11ea_9f51_9cb6d0c4a2a0row0_col2 {\n",
       "            background-color:  #00441b;\n",
       "            color:  #f1f1f1;\n",
       "        }    #T_a134a9b4_3757_11ea_9f51_9cb6d0c4a2a0row0_col3 {\n",
       "            background-color:  #40004b;\n",
       "            color:  #f1f1f1;\n",
       "        }    #T_a134a9b4_3757_11ea_9f51_9cb6d0c4a2a0row0_col4 {\n",
       "            background-color:  #40004b;\n",
       "            color:  #f1f1f1;\n",
       "        }    #T_a134a9b4_3757_11ea_9f51_9cb6d0c4a2a0row0_col5 {\n",
       "            background-color:  #40004b;\n",
       "            color:  #f1f1f1;\n",
       "        }    #T_a134a9b4_3757_11ea_9f51_9cb6d0c4a2a0row0_col6 {\n",
       "            background-color:  #00441b;\n",
       "            color:  #f1f1f1;\n",
       "        }    #T_a134a9b4_3757_11ea_9f51_9cb6d0c4a2a0row0_col7 {\n",
       "            background-color:  #40004b;\n",
       "            color:  #f1f1f1;\n",
       "        }    #T_a134a9b4_3757_11ea_9f51_9cb6d0c4a2a0row0_col8 {\n",
       "            background-color:  #40004b;\n",
       "            color:  #f1f1f1;\n",
       "        }    #T_a134a9b4_3757_11ea_9f51_9cb6d0c4a2a0row0_col9 {\n",
       "            background-color:  #00441b;\n",
       "            color:  #f1f1f1;\n",
       "        }    #T_a134a9b4_3757_11ea_9f51_9cb6d0c4a2a0row0_col10 {\n",
       "            background-color:  #00441b;\n",
       "            color:  #f1f1f1;\n",
       "        }    #T_a134a9b4_3757_11ea_9f51_9cb6d0c4a2a0row0_col11 {\n",
       "            background-color:  #00441b;\n",
       "            color:  #f1f1f1;\n",
       "        }    #T_a134a9b4_3757_11ea_9f51_9cb6d0c4a2a0row0_col12 {\n",
       "            background-color:  #40004b;\n",
       "            color:  #f1f1f1;\n",
       "        }    #T_a134a9b4_3757_11ea_9f51_9cb6d0c4a2a0row0_col13 {\n",
       "            background-color:  #00441b;\n",
       "            color:  #f1f1f1;\n",
       "        }    #T_a134a9b4_3757_11ea_9f51_9cb6d0c4a2a0row0_col14 {\n",
       "            background-color:  #00441b;\n",
       "            color:  #f1f1f1;\n",
       "        }    #T_a134a9b4_3757_11ea_9f51_9cb6d0c4a2a0row0_col15 {\n",
       "            background-color:  #40004b;\n",
       "            color:  #f1f1f1;\n",
       "        }    #T_a134a9b4_3757_11ea_9f51_9cb6d0c4a2a0row0_col16 {\n",
       "            background-color:  #40004b;\n",
       "            color:  #f1f1f1;\n",
       "        }    #T_a134a9b4_3757_11ea_9f51_9cb6d0c4a2a0row1_col0 {\n",
       "            background-color:  #00441b;\n",
       "            color:  #f1f1f1;\n",
       "        }    #T_a134a9b4_3757_11ea_9f51_9cb6d0c4a2a0row1_col1 {\n",
       "            background-color:  #00441b;\n",
       "            color:  #f1f1f1;\n",
       "        }    #T_a134a9b4_3757_11ea_9f51_9cb6d0c4a2a0row1_col2 {\n",
       "            background-color:  #40004b;\n",
       "            color:  #f1f1f1;\n",
       "        }    #T_a134a9b4_3757_11ea_9f51_9cb6d0c4a2a0row1_col3 {\n",
       "            background-color:  #00441b;\n",
       "            color:  #f1f1f1;\n",
       "        }    #T_a134a9b4_3757_11ea_9f51_9cb6d0c4a2a0row1_col4 {\n",
       "            background-color:  #00441b;\n",
       "            color:  #f1f1f1;\n",
       "        }    #T_a134a9b4_3757_11ea_9f51_9cb6d0c4a2a0row1_col5 {\n",
       "            background-color:  #00441b;\n",
       "            color:  #f1f1f1;\n",
       "        }    #T_a134a9b4_3757_11ea_9f51_9cb6d0c4a2a0row1_col6 {\n",
       "            background-color:  #40004b;\n",
       "            color:  #f1f1f1;\n",
       "        }    #T_a134a9b4_3757_11ea_9f51_9cb6d0c4a2a0row1_col7 {\n",
       "            background-color:  #00441b;\n",
       "            color:  #f1f1f1;\n",
       "        }    #T_a134a9b4_3757_11ea_9f51_9cb6d0c4a2a0row1_col8 {\n",
       "            background-color:  #00441b;\n",
       "            color:  #f1f1f1;\n",
       "        }    #T_a134a9b4_3757_11ea_9f51_9cb6d0c4a2a0row1_col9 {\n",
       "            background-color:  #40004b;\n",
       "            color:  #f1f1f1;\n",
       "        }    #T_a134a9b4_3757_11ea_9f51_9cb6d0c4a2a0row1_col10 {\n",
       "            background-color:  #40004b;\n",
       "            color:  #f1f1f1;\n",
       "        }    #T_a134a9b4_3757_11ea_9f51_9cb6d0c4a2a0row1_col11 {\n",
       "            background-color:  #40004b;\n",
       "            color:  #f1f1f1;\n",
       "        }    #T_a134a9b4_3757_11ea_9f51_9cb6d0c4a2a0row1_col12 {\n",
       "            background-color:  #00441b;\n",
       "            color:  #f1f1f1;\n",
       "        }    #T_a134a9b4_3757_11ea_9f51_9cb6d0c4a2a0row1_col13 {\n",
       "            background-color:  #40004b;\n",
       "            color:  #f1f1f1;\n",
       "        }    #T_a134a9b4_3757_11ea_9f51_9cb6d0c4a2a0row1_col14 {\n",
       "            background-color:  #40004b;\n",
       "            color:  #f1f1f1;\n",
       "        }    #T_a134a9b4_3757_11ea_9f51_9cb6d0c4a2a0row1_col15 {\n",
       "            background-color:  #00441b;\n",
       "            color:  #f1f1f1;\n",
       "        }    #T_a134a9b4_3757_11ea_9f51_9cb6d0c4a2a0row1_col16 {\n",
       "            background-color:  #00441b;\n",
       "            color:  #f1f1f1;\n",
       "        }</style><table id=\"T_a134a9b4_3757_11ea_9f51_9cb6d0c4a2a0\" ><thead>    <tr>        <th class=\"index_name level0\" >Initial</th>        <th class=\"col_heading level0 col0\" >Capt</th>        <th class=\"col_heading level0 col1\" >Col</th>        <th class=\"col_heading level0 col2\" >Countess</th>        <th class=\"col_heading level0 col3\" >Don</th>        <th class=\"col_heading level0 col4\" >Dr</th>        <th class=\"col_heading level0 col5\" >Jonkheer</th>        <th class=\"col_heading level0 col6\" >Lady</th>        <th class=\"col_heading level0 col7\" >Major</th>        <th class=\"col_heading level0 col8\" >Master</th>        <th class=\"col_heading level0 col9\" >Miss</th>        <th class=\"col_heading level0 col10\" >Mlle</th>        <th class=\"col_heading level0 col11\" >Mme</th>        <th class=\"col_heading level0 col12\" >Mr</th>        <th class=\"col_heading level0 col13\" >Mrs</th>        <th class=\"col_heading level0 col14\" >Ms</th>        <th class=\"col_heading level0 col15\" >Rev</th>        <th class=\"col_heading level0 col16\" >Sir</th>    </tr>    <tr>        <th class=\"index_name level0\" >Sex</th>        <th class=\"blank\" ></th>        <th class=\"blank\" ></th>        <th class=\"blank\" ></th>        <th class=\"blank\" ></th>        <th class=\"blank\" ></th>        <th class=\"blank\" ></th>        <th class=\"blank\" ></th>        <th class=\"blank\" ></th>        <th class=\"blank\" ></th>        <th class=\"blank\" ></th>        <th class=\"blank\" ></th>        <th class=\"blank\" ></th>        <th class=\"blank\" ></th>        <th class=\"blank\" ></th>        <th class=\"blank\" ></th>        <th class=\"blank\" ></th>        <th class=\"blank\" ></th>    </tr></thead><tbody>\n",
       "                <tr>\n",
       "                        <th id=\"T_a134a9b4_3757_11ea_9f51_9cb6d0c4a2a0level0_row0\" class=\"row_heading level0 row0\" >female</th>\n",
       "                        <td id=\"T_a134a9b4_3757_11ea_9f51_9cb6d0c4a2a0row0_col0\" class=\"data row0 col0\" >0</td>\n",
       "                        <td id=\"T_a134a9b4_3757_11ea_9f51_9cb6d0c4a2a0row0_col1\" class=\"data row0 col1\" >0</td>\n",
       "                        <td id=\"T_a134a9b4_3757_11ea_9f51_9cb6d0c4a2a0row0_col2\" class=\"data row0 col2\" >1</td>\n",
       "                        <td id=\"T_a134a9b4_3757_11ea_9f51_9cb6d0c4a2a0row0_col3\" class=\"data row0 col3\" >0</td>\n",
       "                        <td id=\"T_a134a9b4_3757_11ea_9f51_9cb6d0c4a2a0row0_col4\" class=\"data row0 col4\" >1</td>\n",
       "                        <td id=\"T_a134a9b4_3757_11ea_9f51_9cb6d0c4a2a0row0_col5\" class=\"data row0 col5\" >0</td>\n",
       "                        <td id=\"T_a134a9b4_3757_11ea_9f51_9cb6d0c4a2a0row0_col6\" class=\"data row0 col6\" >1</td>\n",
       "                        <td id=\"T_a134a9b4_3757_11ea_9f51_9cb6d0c4a2a0row0_col7\" class=\"data row0 col7\" >0</td>\n",
       "                        <td id=\"T_a134a9b4_3757_11ea_9f51_9cb6d0c4a2a0row0_col8\" class=\"data row0 col8\" >0</td>\n",
       "                        <td id=\"T_a134a9b4_3757_11ea_9f51_9cb6d0c4a2a0row0_col9\" class=\"data row0 col9\" >182</td>\n",
       "                        <td id=\"T_a134a9b4_3757_11ea_9f51_9cb6d0c4a2a0row0_col10\" class=\"data row0 col10\" >2</td>\n",
       "                        <td id=\"T_a134a9b4_3757_11ea_9f51_9cb6d0c4a2a0row0_col11\" class=\"data row0 col11\" >1</td>\n",
       "                        <td id=\"T_a134a9b4_3757_11ea_9f51_9cb6d0c4a2a0row0_col12\" class=\"data row0 col12\" >0</td>\n",
       "                        <td id=\"T_a134a9b4_3757_11ea_9f51_9cb6d0c4a2a0row0_col13\" class=\"data row0 col13\" >125</td>\n",
       "                        <td id=\"T_a134a9b4_3757_11ea_9f51_9cb6d0c4a2a0row0_col14\" class=\"data row0 col14\" >1</td>\n",
       "                        <td id=\"T_a134a9b4_3757_11ea_9f51_9cb6d0c4a2a0row0_col15\" class=\"data row0 col15\" >0</td>\n",
       "                        <td id=\"T_a134a9b4_3757_11ea_9f51_9cb6d0c4a2a0row0_col16\" class=\"data row0 col16\" >0</td>\n",
       "            </tr>\n",
       "            <tr>\n",
       "                        <th id=\"T_a134a9b4_3757_11ea_9f51_9cb6d0c4a2a0level0_row1\" class=\"row_heading level0 row1\" >male</th>\n",
       "                        <td id=\"T_a134a9b4_3757_11ea_9f51_9cb6d0c4a2a0row1_col0\" class=\"data row1 col0\" >1</td>\n",
       "                        <td id=\"T_a134a9b4_3757_11ea_9f51_9cb6d0c4a2a0row1_col1\" class=\"data row1 col1\" >2</td>\n",
       "                        <td id=\"T_a134a9b4_3757_11ea_9f51_9cb6d0c4a2a0row1_col2\" class=\"data row1 col2\" >0</td>\n",
       "                        <td id=\"T_a134a9b4_3757_11ea_9f51_9cb6d0c4a2a0row1_col3\" class=\"data row1 col3\" >1</td>\n",
       "                        <td id=\"T_a134a9b4_3757_11ea_9f51_9cb6d0c4a2a0row1_col4\" class=\"data row1 col4\" >6</td>\n",
       "                        <td id=\"T_a134a9b4_3757_11ea_9f51_9cb6d0c4a2a0row1_col5\" class=\"data row1 col5\" >1</td>\n",
       "                        <td id=\"T_a134a9b4_3757_11ea_9f51_9cb6d0c4a2a0row1_col6\" class=\"data row1 col6\" >0</td>\n",
       "                        <td id=\"T_a134a9b4_3757_11ea_9f51_9cb6d0c4a2a0row1_col7\" class=\"data row1 col7\" >2</td>\n",
       "                        <td id=\"T_a134a9b4_3757_11ea_9f51_9cb6d0c4a2a0row1_col8\" class=\"data row1 col8\" >40</td>\n",
       "                        <td id=\"T_a134a9b4_3757_11ea_9f51_9cb6d0c4a2a0row1_col9\" class=\"data row1 col9\" >0</td>\n",
       "                        <td id=\"T_a134a9b4_3757_11ea_9f51_9cb6d0c4a2a0row1_col10\" class=\"data row1 col10\" >0</td>\n",
       "                        <td id=\"T_a134a9b4_3757_11ea_9f51_9cb6d0c4a2a0row1_col11\" class=\"data row1 col11\" >0</td>\n",
       "                        <td id=\"T_a134a9b4_3757_11ea_9f51_9cb6d0c4a2a0row1_col12\" class=\"data row1 col12\" >517</td>\n",
       "                        <td id=\"T_a134a9b4_3757_11ea_9f51_9cb6d0c4a2a0row1_col13\" class=\"data row1 col13\" >0</td>\n",
       "                        <td id=\"T_a134a9b4_3757_11ea_9f51_9cb6d0c4a2a0row1_col14\" class=\"data row1 col14\" >0</td>\n",
       "                        <td id=\"T_a134a9b4_3757_11ea_9f51_9cb6d0c4a2a0row1_col15\" class=\"data row1 col15\" >6</td>\n",
       "                        <td id=\"T_a134a9b4_3757_11ea_9f51_9cb6d0c4a2a0row1_col16\" class=\"data row1 col16\" >1</td>\n",
       "            </tr>\n",
       "    </tbody></table>"
      ],
      "text/plain": [
       "<pandas.io.formats.style.Styler at 0x16030a81788>"
      ]
     },
     "execution_count": 15,
     "metadata": {},
     "output_type": "execute_result"
    }
   ],
   "source": [
    "pd.crosstab(data.Sex, data.Initial).style.background_gradient(cmap='PRGn')"
   ]
  },
  {
   "cell_type": "code",
   "execution_count": 16,
   "metadata": {},
   "outputs": [
    {
     "data": {
      "text/plain": [
       "0         Mr\n",
       "1        Mrs\n",
       "2       Miss\n",
       "3        Mrs\n",
       "4         Mr\n",
       "       ...  \n",
       "886    Other\n",
       "887     Miss\n",
       "888     Miss\n",
       "889       Mr\n",
       "890       Mr\n",
       "Name: Initial, Length: 891, dtype: object"
      ]
     },
     "execution_count": 16,
     "metadata": {},
     "output_type": "execute_result"
    }
   ],
   "source": [
    "data['Initial'].replace(['Mlle', 'Mme', 'Ms', 'Dr', 'Major', 'Lady', 'Countess', 'Jonkheer', 'Col', 'Rev','Capt', 'Sir', 'Don'], ['Miss', 'Miss', 'Miss','Mr', 'Mr', 'Mrs', 'Mrs', 'Other', 'Other', 'Other', 'Mr', 'Mr', 'Mr'], inplace=True)\n",
    "data['Initial']"
   ]
  },
  {
   "cell_type": "code",
   "execution_count": 17,
   "metadata": {},
   "outputs": [
    {
     "data": {
      "image/png": "[encoded data removed]",
      "text/plain": [
       "<Figure size 432x288 with 1 Axes>"
      ]
     },
     "metadata": {
      "needs_background": "dark"
     },
     "output_type": "display_data"
    }
   ],
   "source": [
    "sns.distplot(data[data['Pclass'] == 1].Fare)\n",
    "plt.title('Fare Distribution of Pclass 1')\n",
    "plt.show()"
   ]
  },
  {
   "cell_type": "code",
   "execution_count": 18,
   "metadata": {},
   "outputs": [
    {
     "data": {
      "text/plain": [
       "PassengerId      0\n",
       "Survived         0\n",
       "Pclass           0\n",
       "Name             0\n",
       "Sex              0\n",
       "Age            177\n",
       "SibSp            0\n",
       "Parch            0\n",
       "Ticket           0\n",
       "Fare             0\n",
       "Cabin          687\n",
       "Embarked         2\n",
       "Initial          0\n",
       "dtype: int64"
      ]
     },
     "execution_count": 18,
     "metadata": {},
     "output_type": "execute_result"
    }
   ],
   "source": [
    "data.isnull().sum()"
   ]
  },
  {
   "cell_type": "code",
   "execution_count": 19,
   "metadata": {},
   "outputs": [
    {
     "data": {
      "text/plain": [
       "Initial\n",
       "Master     36\n",
       "Miss      150\n",
       "Mr        409\n",
       "Mrs       110\n",
       "Other       9\n",
       "Name: Age, dtype: int64"
      ]
     },
     "execution_count": 19,
     "metadata": {},
     "output_type": "execute_result"
    }
   ],
   "source": [
    "# data.groupby('Initial')['Age'].mean()\n",
    "data.groupby('Initial')['Age'].count()"
   ]
  },
  {
   "cell_type": "code",
   "execution_count": 20,
   "metadata": {},
   "outputs": [],
   "source": [
    "data.loc[(data.Age.isnull())&(data.Initial == 'Mr'),'Age'] = 33\n",
    "data.loc[(data.Age.isnull())&(data.Initial == 'Mrs'),'Age'] = 36\n",
    "data.loc[(data.Age.isnull())&(data.Initial == 'Master'),'Age'] = 5\n",
    "data.loc[(data.Age.isnull())&(data.Initial == 'Miss'),'Age'] = 22\n",
    "data.loc[(data.Age.isnull())&(data.Initial == 'Other'),'Age'] = 46"
   ]
  },
  {
   "cell_type": "code",
   "execution_count": 21,
   "metadata": {},
   "outputs": [
    {
     "data": {
      "text/plain": [
       "False"
      ]
     },
     "execution_count": 21,
     "metadata": {},
     "output_type": "execute_result"
    }
   ],
   "source": [
    "data.Age.isnull().any()"
   ]
  },
  {
   "cell_type": "code",
   "execution_count": 22,
   "metadata": {},
   "outputs": [
    {
     "data": {
      "text/plain": [
       "PassengerId      0\n",
       "Survived         0\n",
       "Pclass           0\n",
       "Name             0\n",
       "Sex              0\n",
       "Age              0\n",
       "SibSp            0\n",
       "Parch            0\n",
       "Ticket           0\n",
       "Fare             0\n",
       "Cabin          687\n",
       "Embarked         2\n",
       "Initial          0\n",
       "dtype: int64"
      ]
     },
     "execution_count": 22,
     "metadata": {},
     "output_type": "execute_result"
    }
   ],
   "source": [
    "data.isnull().sum()"
   ]
  },
  {
   "cell_type": "code",
   "execution_count": 23,
   "metadata": {},
   "outputs": [
    {
     "data": {
      "image/png": "[encoded data removed]",
      "text/plain": [
       "<Figure size 1296x576 with 2 Axes>"
      ]
     },
     "metadata": {
      "needs_background": "dark"
     },
     "output_type": "display_data"
    }
   ],
   "source": [
    "f, ax = plt.subplots(1,2, figsize=(18,8))\n",
    "data[data['Survived'] == 0].Age.plot.hist(ax=ax[0], bins=20, edgecolor='black', color='pink')\n",
    "x1 = list(range(0,85,5))\n",
    "ax[0].set_xticks(x1)\n",
    "\n",
    "data[data['Survived'] == 1].Age.plot.hist(ax=ax[1], bins=20, edgecolor='black', color='green')\n",
    "x2 = list(range(0,85,5))\n",
    "ax[1].set_xticks(x2)\n",
    "plt.show()"
   ]
  },
  {
   "cell_type": "code",
   "execution_count": 24,
   "metadata": {},
   "outputs": [
    {
     "data": {
      "text/plain": [
       "<matplotlib.axes._subplots.AxesSubplot at 0x1603107adc8>"
      ]
     },
     "execution_count": 24,
     "metadata": {},
     "output_type": "execute_result"
    },
    {
     "data": {
      "image/png": "[encoded data removed]",
      "text/plain": [
       "<Figure size 432x288 with 1 Axes>"
      ]
     },
     "metadata": {
      "needs_background": "dark"
     },
     "output_type": "display_data"
    }
   ],
   "source": [
    "sns.distplot(data['Fare'], bins=20)"
   ]
  },
  {
   "cell_type": "code",
   "execution_count": 25,
   "metadata": {},
   "outputs": [
    {
     "data": {
      "image/png": "[encoded data removed]",
      "text/plain": [
       "<Figure size 1800x360 with 5 Axes>"
      ]
     },
     "metadata": {
      "needs_background": "dark"
     },
     "output_type": "display_data"
    }
   ],
   "source": [
    "sns.factorplot('Pclass', 'Survived', col='Initial', data=data)\n",
    "plt.show()"
   ]
  },
  {
   "cell_type": "code",
   "execution_count": 26,
   "metadata": {},
   "outputs": [
    {
     "data": {
      "text/plain": [
       "<matplotlib.axes._subplots.AxesSubplot at 0x160315f8848>"
      ]
     },
     "execution_count": 26,
     "metadata": {},
     "output_type": "execute_result"
    },
    {
     "data": {
      "image/png": "[encoded data removed]",
      "text/plain": [
       "<Figure size 432x288 with 1 Axes>"
      ]
     },
     "metadata": {
      "needs_background": "dark"
     },
     "output_type": "display_data"
    }
   ],
   "source": [
    "sns.barplot('SibSp', 'Survived', data=data)"
   ]
  },
  {
   "cell_type": "code",
   "execution_count": 27,
   "metadata": {},
   "outputs": [
    {
     "name": "stdout",
     "output_type": "stream",
     "text": [
      "['S' 'C' 'Q' nan]\n"
     ]
    }
   ],
   "source": [
    "# unique한 값 찾기\n",
    "a = data['Embarked'].unique()\n",
    "print(a)"
   ]
  },
  {
   "cell_type": "code",
   "execution_count": 28,
   "metadata": {},
   "outputs": [
    {
     "data": {
      "image/png": "[encoded data removed]",
      "text/plain": [
       "<Figure size 720x576 with 2 Axes>"
      ]
     },
     "metadata": {
      "needs_background": "dark"
     },
     "output_type": "display_data"
    }
   ],
   "source": [
    "# pd.merge(data,)\n",
    "sns.heatmap(data.corr(), annot=True, cmap='RdYlGn', linewidth= 0.2)\n",
    "\n",
    "# heatmap이 cut off되어서 수정해 주는 코드 (stackoverflow보니깐 matplotlib버전문제인듯?)\n",
    "b, t = plt.ylim() # discover the values for bottom and top\n",
    "b += 0.5 # Add 0.5 to the bottom\n",
    "t -= 0.5 # Subtract 0.5 from the top\n",
    "plt.ylim(b, t) \n",
    "\n",
    "fig = plt.gcf()\n",
    "fig.set_size_inches(10,8)\n",
    "plt.show()"
   ]
  },
  {
   "cell_type": "code",
   "execution_count": 29,
   "metadata": {},
   "outputs": [
    {
     "data": {
      "text/html": [
       "<div>\n",
       "<style scoped>\n",
       "    .dataframe tbody tr th:only-of-type {\n",
       "        vertical-align: middle;\n",
       "    }\n",
       "\n",
       "    .dataframe tbody tr th {\n",
       "        vertical-align: top;\n",
       "    }\n",
       "\n",
       "    .dataframe thead th {\n",
       "        text-align: right;\n",
       "    }\n",
       "</style>\n",
       "<table border=\"1\" class=\"dataframe\">\n",
       "  <thead>\n",
       "    <tr style=\"text-align: right;\">\n",
       "      <th></th>\n",
       "      <th>PassengerId</th>\n",
       "      <th>Survived</th>\n",
       "      <th>Pclass</th>\n",
       "      <th>Name</th>\n",
       "      <th>Sex</th>\n",
       "      <th>Age</th>\n",
       "      <th>SibSp</th>\n",
       "      <th>Parch</th>\n",
       "      <th>Ticket</th>\n",
       "      <th>Fare</th>\n",
       "      <th>Cabin</th>\n",
       "      <th>Embarked</th>\n",
       "      <th>Initial</th>\n",
       "      <th>Age_band</th>\n",
       "    </tr>\n",
       "  </thead>\n",
       "  <tbody>\n",
       "    <tr>\n",
       "      <td>0</td>\n",
       "      <td>1</td>\n",
       "      <td>0</td>\n",
       "      <td>3</td>\n",
       "      <td>Braund, Mr. Owen Harris</td>\n",
       "      <td>male</td>\n",
       "      <td>22.0</td>\n",
       "      <td>1</td>\n",
       "      <td>0</td>\n",
       "      <td>A/5 21171</td>\n",
       "      <td>7.2500</td>\n",
       "      <td>NaN</td>\n",
       "      <td>S</td>\n",
       "      <td>Mr</td>\n",
       "      <td>1</td>\n",
       "    </tr>\n",
       "    <tr>\n",
       "      <td>1</td>\n",
       "      <td>2</td>\n",
       "      <td>1</td>\n",
       "      <td>1</td>\n",
       "      <td>Cumings, Mrs. John Bradley (Florence Briggs Th...</td>\n",
       "      <td>female</td>\n",
       "      <td>38.0</td>\n",
       "      <td>1</td>\n",
       "      <td>0</td>\n",
       "      <td>PC 17599</td>\n",
       "      <td>71.2833</td>\n",
       "      <td>C85</td>\n",
       "      <td>C</td>\n",
       "      <td>Mrs</td>\n",
       "      <td>2</td>\n",
       "    </tr>\n",
       "    <tr>\n",
       "      <td>2</td>\n",
       "      <td>3</td>\n",
       "      <td>1</td>\n",
       "      <td>3</td>\n",
       "      <td>Heikkinen, Miss. Laina</td>\n",
       "      <td>female</td>\n",
       "      <td>26.0</td>\n",
       "      <td>0</td>\n",
       "      <td>0</td>\n",
       "      <td>STON/O2. 3101282</td>\n",
       "      <td>7.9250</td>\n",
       "      <td>NaN</td>\n",
       "      <td>S</td>\n",
       "      <td>Miss</td>\n",
       "      <td>1</td>\n",
       "    </tr>\n",
       "    <tr>\n",
       "      <td>3</td>\n",
       "      <td>4</td>\n",
       "      <td>1</td>\n",
       "      <td>1</td>\n",
       "      <td>Futrelle, Mrs. Jacques Heath (Lily May Peel)</td>\n",
       "      <td>female</td>\n",
       "      <td>35.0</td>\n",
       "      <td>1</td>\n",
       "      <td>0</td>\n",
       "      <td>113803</td>\n",
       "      <td>53.1000</td>\n",
       "      <td>C123</td>\n",
       "      <td>S</td>\n",
       "      <td>Mrs</td>\n",
       "      <td>2</td>\n",
       "    </tr>\n",
       "    <tr>\n",
       "      <td>4</td>\n",
       "      <td>5</td>\n",
       "      <td>0</td>\n",
       "      <td>3</td>\n",
       "      <td>Allen, Mr. William Henry</td>\n",
       "      <td>male</td>\n",
       "      <td>35.0</td>\n",
       "      <td>0</td>\n",
       "      <td>0</td>\n",
       "      <td>373450</td>\n",
       "      <td>8.0500</td>\n",
       "      <td>NaN</td>\n",
       "      <td>S</td>\n",
       "      <td>Mr</td>\n",
       "      <td>2</td>\n",
       "    </tr>\n",
       "  </tbody>\n",
       "</table>\n",
       "</div>"
      ],
      "text/plain": [
       "   PassengerId  Survived  Pclass  \\\n",
       "0            1         0       3   \n",
       "1            2         1       1   \n",
       "2            3         1       3   \n",
       "3            4         1       1   \n",
       "4            5         0       3   \n",
       "\n",
       "                                                Name     Sex   Age  SibSp  \\\n",
       "0                            Braund, Mr. Owen Harris    male  22.0      1   \n",
       "1  Cumings, Mrs. John Bradley (Florence Briggs Th...  female  38.0      1   \n",
       "2                             Heikkinen, Miss. Laina  female  26.0      0   \n",
       "3       Futrelle, Mrs. Jacques Heath (Lily May Peel)  female  35.0      1   \n",
       "4                           Allen, Mr. William Henry    male  35.0      0   \n",
       "\n",
       "   Parch            Ticket     Fare Cabin Embarked Initial  Age_band  \n",
       "0      0         A/5 21171   7.2500   NaN        S      Mr         1  \n",
       "1      0          PC 17599  71.2833   C85        C     Mrs         2  \n",
       "2      0  STON/O2. 3101282   7.9250   NaN        S    Miss         1  \n",
       "3      0            113803  53.1000  C123        S     Mrs         2  \n",
       "4      0            373450   8.0500   NaN        S      Mr         2  "
      ]
     },
     "execution_count": 29,
     "metadata": {},
     "output_type": "execute_result"
    }
   ],
   "source": [
    "data['Age_band'] = 0\n",
    "data.loc[data['Age'] <= 16, 'Age_band'] = 0\n",
    "data.loc[(data['Age'] >16)&(data['Age'] <=32), 'Age_band'] = 1\n",
    "data.loc[(data['Age'] >32)&(data['Age'] <=48), 'Age_band'] = 2\n",
    "data.loc[(data['Age'] >48)&(data['Age'] <=64), 'Age_band'] = 3\n",
    "data.loc[data['Age'] >64, 'Age_band'] = 4\n",
    "data.head()"
   ]
  },
  {
   "cell_type": "code",
   "execution_count": 30,
   "metadata": {},
   "outputs": [
    {
     "data": {
      "image/png": "[encoded data removed]",
      "text/plain": [
       "<Figure size 1296x432 with 2 Axes>"
      ]
     },
     "metadata": {
      "needs_background": "dark"
     },
     "output_type": "display_data"
    }
   ],
   "source": [
    "data['Family_Size'] = 0\n",
    "data['Family_Size'] = data['Parch'] + data['SibSp']\n",
    "data['Alone'] = 0\n",
    "data.loc[data.Family_Size == 0, 'Alone'] = 1\n",
    "\n",
    "f, ax = plt.subplots(1,2, figsize=(18,6))\n",
    "sns.factorplot('Family_Size', 'Survived', data=data, ax=ax[0])\n",
    "sns.factorplot('Alone', 'Survived', data=data, ax=ax[1])\n",
    "plt.close(2)\n",
    "plt.close(3)\n",
    "plt.show()\n"
   ]
  },
  {
   "cell_type": "code",
   "execution_count": 31,
   "metadata": {
    "scrolled": false
   },
   "outputs": [
    {
     "data": {
      "text/html": [
       "<div>\n",
       "<style scoped>\n",
       "    .dataframe tbody tr th:only-of-type {\n",
       "        vertical-align: middle;\n",
       "    }\n",
       "\n",
       "    .dataframe tbody tr th {\n",
       "        vertical-align: top;\n",
       "    }\n",
       "\n",
       "    .dataframe thead th {\n",
       "        text-align: right;\n",
       "    }\n",
       "</style>\n",
       "<table border=\"1\" class=\"dataframe\">\n",
       "  <thead>\n",
       "    <tr style=\"text-align: right;\">\n",
       "      <th></th>\n",
       "      <th>PassengerId</th>\n",
       "      <th>Survived</th>\n",
       "      <th>Pclass</th>\n",
       "      <th>Name</th>\n",
       "      <th>Sex</th>\n",
       "      <th>Age</th>\n",
       "      <th>SibSp</th>\n",
       "      <th>Parch</th>\n",
       "      <th>Ticket</th>\n",
       "      <th>Fare</th>\n",
       "      <th>Cabin</th>\n",
       "      <th>Embarked</th>\n",
       "      <th>Initial</th>\n",
       "      <th>Age_band</th>\n",
       "      <th>Family_Size</th>\n",
       "      <th>Alone</th>\n",
       "    </tr>\n",
       "  </thead>\n",
       "  <tbody>\n",
       "    <tr>\n",
       "      <td>0</td>\n",
       "      <td>1</td>\n",
       "      <td>0</td>\n",
       "      <td>3</td>\n",
       "      <td>Braund, Mr. Owen Harris</td>\n",
       "      <td>male</td>\n",
       "      <td>22.0</td>\n",
       "      <td>1</td>\n",
       "      <td>0</td>\n",
       "      <td>A/5 21171</td>\n",
       "      <td>7.2500</td>\n",
       "      <td>NaN</td>\n",
       "      <td>S</td>\n",
       "      <td>Mr</td>\n",
       "      <td>1</td>\n",
       "      <td>1</td>\n",
       "      <td>0</td>\n",
       "    </tr>\n",
       "    <tr>\n",
       "      <td>1</td>\n",
       "      <td>2</td>\n",
       "      <td>1</td>\n",
       "      <td>1</td>\n",
       "      <td>Cumings, Mrs. John Bradley (Florence Briggs Th...</td>\n",
       "      <td>female</td>\n",
       "      <td>38.0</td>\n",
       "      <td>1</td>\n",
       "      <td>0</td>\n",
       "      <td>PC 17599</td>\n",
       "      <td>71.2833</td>\n",
       "      <td>C85</td>\n",
       "      <td>C</td>\n",
       "      <td>Mrs</td>\n",
       "      <td>2</td>\n",
       "      <td>1</td>\n",
       "      <td>0</td>\n",
       "    </tr>\n",
       "    <tr>\n",
       "      <td>2</td>\n",
       "      <td>3</td>\n",
       "      <td>1</td>\n",
       "      <td>3</td>\n",
       "      <td>Heikkinen, Miss. Laina</td>\n",
       "      <td>female</td>\n",
       "      <td>26.0</td>\n",
       "      <td>0</td>\n",
       "      <td>0</td>\n",
       "      <td>STON/O2. 3101282</td>\n",
       "      <td>7.9250</td>\n",
       "      <td>NaN</td>\n",
       "      <td>S</td>\n",
       "      <td>Miss</td>\n",
       "      <td>1</td>\n",
       "      <td>0</td>\n",
       "      <td>1</td>\n",
       "    </tr>\n",
       "    <tr>\n",
       "      <td>3</td>\n",
       "      <td>4</td>\n",
       "      <td>1</td>\n",
       "      <td>1</td>\n",
       "      <td>Futrelle, Mrs. Jacques Heath (Lily May Peel)</td>\n",
       "      <td>female</td>\n",
       "      <td>35.0</td>\n",
       "      <td>1</td>\n",
       "      <td>0</td>\n",
       "      <td>113803</td>\n",
       "      <td>53.1000</td>\n",
       "      <td>C123</td>\n",
       "      <td>S</td>\n",
       "      <td>Mrs</td>\n",
       "      <td>2</td>\n",
       "      <td>1</td>\n",
       "      <td>0</td>\n",
       "    </tr>\n",
       "    <tr>\n",
       "      <td>4</td>\n",
       "      <td>5</td>\n",
       "      <td>0</td>\n",
       "      <td>3</td>\n",
       "      <td>Allen, Mr. William Henry</td>\n",
       "      <td>male</td>\n",
       "      <td>35.0</td>\n",
       "      <td>0</td>\n",
       "      <td>0</td>\n",
       "      <td>373450</td>\n",
       "      <td>8.0500</td>\n",
       "      <td>NaN</td>\n",
       "      <td>S</td>\n",
       "      <td>Mr</td>\n",
       "      <td>2</td>\n",
       "      <td>0</td>\n",
       "      <td>1</td>\n",
       "    </tr>\n",
       "  </tbody>\n",
       "</table>\n",
       "</div>"
      ],
      "text/plain": [
       "   PassengerId  Survived  Pclass  \\\n",
       "0            1         0       3   \n",
       "1            2         1       1   \n",
       "2            3         1       3   \n",
       "3            4         1       1   \n",
       "4            5         0       3   \n",
       "\n",
       "                                                Name     Sex   Age  SibSp  \\\n",
       "0                            Braund, Mr. Owen Harris    male  22.0      1   \n",
       "1  Cumings, Mrs. John Bradley (Florence Briggs Th...  female  38.0      1   \n",
       "2                             Heikkinen, Miss. Laina  female  26.0      0   \n",
       "3       Futrelle, Mrs. Jacques Heath (Lily May Peel)  female  35.0      1   \n",
       "4                           Allen, Mr. William Henry    male  35.0      0   \n",
       "\n",
       "   Parch            Ticket     Fare Cabin Embarked Initial  Age_band  \\\n",
       "0      0         A/5 21171   7.2500   NaN        S      Mr         1   \n",
       "1      0          PC 17599  71.2833   C85        C     Mrs         2   \n",
       "2      0  STON/O2. 3101282   7.9250   NaN        S    Miss         1   \n",
       "3      0            113803  53.1000  C123        S     Mrs         2   \n",
       "4      0            373450   8.0500   NaN        S      Mr         2   \n",
       "\n",
       "   Family_Size  Alone  \n",
       "0            1      0  \n",
       "1            1      0  \n",
       "2            0      1  \n",
       "3            1      0  \n",
       "4            0      1  "
      ]
     },
     "execution_count": 31,
     "metadata": {},
     "output_type": "execute_result"
    }
   ],
   "source": [
    "data.head()"
   ]
  },
  {
   "cell_type": "markdown",
   "metadata": {},
   "source": [
    "pd.cut()으로 동일 길이로 나누어서 범주를 만든 후 GroupBy()로 그룹별 통계량 구하기\n",
    "\n",
    "pd.qcut()으로 동일 개수로 나누어서 범주를 만든 후 GroupBy()로 그룹별 통계량 구하기"
   ]
  },
  {
   "cell_type": "code",
   "execution_count": 32,
   "metadata": {},
   "outputs": [
    {
     "data": {
      "text/html": [
       "<style  type=\"text/css\" >\n",
       "    #T_a2b92e3e_3757_11ea_8175_9cb6d0c4a2a0row0_col0 {\n",
       "            background-color:  #40004b;\n",
       "            color:  #f1f1f1;\n",
       "        }    #T_a2b92e3e_3757_11ea_8175_9cb6d0c4a2a0row1_col0 {\n",
       "            background-color:  #b897c6;\n",
       "            color:  #000000;\n",
       "        }    #T_a2b92e3e_3757_11ea_8175_9cb6d0c4a2a0row2_col0 {\n",
       "            background-color:  #b5e1af;\n",
       "            color:  #000000;\n",
       "        }    #T_a2b92e3e_3757_11ea_8175_9cb6d0c4a2a0row3_col0 {\n",
       "            background-color:  #00441b;\n",
       "            color:  #f1f1f1;\n",
       "        }</style><table id=\"T_a2b92e3e_3757_11ea_8175_9cb6d0c4a2a0\" ><thead>    <tr>        <th class=\"blank level0\" ></th>        <th class=\"col_heading level0 col0\" >Survived</th>    </tr>    <tr>        <th class=\"index_name level0\" >Fare_Range</th>        <th class=\"blank\" ></th>    </tr></thead><tbody>\n",
       "                <tr>\n",
       "                        <th id=\"T_a2b92e3e_3757_11ea_8175_9cb6d0c4a2a0level0_row0\" class=\"row_heading level0 row0\" >(-0.001, 7.91]</th>\n",
       "                        <td id=\"T_a2b92e3e_3757_11ea_8175_9cb6d0c4a2a0row0_col0\" class=\"data row0 col0\" >0.197309</td>\n",
       "            </tr>\n",
       "            <tr>\n",
       "                        <th id=\"T_a2b92e3e_3757_11ea_8175_9cb6d0c4a2a0level0_row1\" class=\"row_heading level0 row1\" >(7.91, 14.454]</th>\n",
       "                        <td id=\"T_a2b92e3e_3757_11ea_8175_9cb6d0c4a2a0row1_col0\" class=\"data row1 col0\" >0.303571</td>\n",
       "            </tr>\n",
       "            <tr>\n",
       "                        <th id=\"T_a2b92e3e_3757_11ea_8175_9cb6d0c4a2a0level0_row2\" class=\"row_heading level0 row2\" >(14.454, 31.0]</th>\n",
       "                        <td id=\"T_a2b92e3e_3757_11ea_8175_9cb6d0c4a2a0row2_col0\" class=\"data row2 col0\" >0.454955</td>\n",
       "            </tr>\n",
       "            <tr>\n",
       "                        <th id=\"T_a2b92e3e_3757_11ea_8175_9cb6d0c4a2a0level0_row3\" class=\"row_heading level0 row3\" >(31.0, 512.329]</th>\n",
       "                        <td id=\"T_a2b92e3e_3757_11ea_8175_9cb6d0c4a2a0row3_col0\" class=\"data row3 col0\" >0.581081</td>\n",
       "            </tr>\n",
       "    </tbody></table>"
      ],
      "text/plain": [
       "<pandas.io.formats.style.Styler at 0x1603125dbc8>"
      ]
     },
     "execution_count": 32,
     "metadata": {},
     "output_type": "execute_result"
    }
   ],
   "source": [
    "data['Fare_Range'] = pd.qcut(data['Fare'], 4)\n",
    "data.groupby(['Fare_Range'])['Survived'].mean().to_frame().style.background_gradient(cmap='PRGn')"
   ]
  },
  {
   "cell_type": "code",
   "execution_count": 33,
   "metadata": {},
   "outputs": [
    {
     "data": {
      "text/html": [
       "<div>\n",
       "<style scoped>\n",
       "    .dataframe tbody tr th:only-of-type {\n",
       "        vertical-align: middle;\n",
       "    }\n",
       "\n",
       "    .dataframe tbody tr th {\n",
       "        vertical-align: top;\n",
       "    }\n",
       "\n",
       "    .dataframe thead th {\n",
       "        text-align: right;\n",
       "    }\n",
       "</style>\n",
       "<table border=\"1\" class=\"dataframe\">\n",
       "  <thead>\n",
       "    <tr style=\"text-align: right;\">\n",
       "      <th></th>\n",
       "      <th>PassengerId</th>\n",
       "      <th>Survived</th>\n",
       "      <th>Pclass</th>\n",
       "      <th>Name</th>\n",
       "      <th>Sex</th>\n",
       "      <th>Age</th>\n",
       "      <th>SibSp</th>\n",
       "      <th>Parch</th>\n",
       "      <th>Ticket</th>\n",
       "      <th>Fare</th>\n",
       "      <th>Cabin</th>\n",
       "      <th>Embarked</th>\n",
       "      <th>Initial</th>\n",
       "      <th>Age_band</th>\n",
       "      <th>Family_Size</th>\n",
       "      <th>Alone</th>\n",
       "      <th>Fare_Range</th>\n",
       "      <th>Fare_cat</th>\n",
       "    </tr>\n",
       "  </thead>\n",
       "  <tbody>\n",
       "    <tr>\n",
       "      <td>0</td>\n",
       "      <td>1</td>\n",
       "      <td>0</td>\n",
       "      <td>3</td>\n",
       "      <td>Braund, Mr. Owen Harris</td>\n",
       "      <td>male</td>\n",
       "      <td>22.0</td>\n",
       "      <td>1</td>\n",
       "      <td>0</td>\n",
       "      <td>A/5 21171</td>\n",
       "      <td>7.2500</td>\n",
       "      <td>NaN</td>\n",
       "      <td>S</td>\n",
       "      <td>Mr</td>\n",
       "      <td>1</td>\n",
       "      <td>1</td>\n",
       "      <td>0</td>\n",
       "      <td>(-0.001, 7.91]</td>\n",
       "      <td>0</td>\n",
       "    </tr>\n",
       "    <tr>\n",
       "      <td>1</td>\n",
       "      <td>2</td>\n",
       "      <td>1</td>\n",
       "      <td>1</td>\n",
       "      <td>Cumings, Mrs. John Bradley (Florence Briggs Th...</td>\n",
       "      <td>female</td>\n",
       "      <td>38.0</td>\n",
       "      <td>1</td>\n",
       "      <td>0</td>\n",
       "      <td>PC 17599</td>\n",
       "      <td>71.2833</td>\n",
       "      <td>C85</td>\n",
       "      <td>C</td>\n",
       "      <td>Mrs</td>\n",
       "      <td>2</td>\n",
       "      <td>1</td>\n",
       "      <td>0</td>\n",
       "      <td>(31.0, 512.329]</td>\n",
       "      <td>3</td>\n",
       "    </tr>\n",
       "    <tr>\n",
       "      <td>2</td>\n",
       "      <td>3</td>\n",
       "      <td>1</td>\n",
       "      <td>3</td>\n",
       "      <td>Heikkinen, Miss. Laina</td>\n",
       "      <td>female</td>\n",
       "      <td>26.0</td>\n",
       "      <td>0</td>\n",
       "      <td>0</td>\n",
       "      <td>STON/O2. 3101282</td>\n",
       "      <td>7.9250</td>\n",
       "      <td>NaN</td>\n",
       "      <td>S</td>\n",
       "      <td>Miss</td>\n",
       "      <td>1</td>\n",
       "      <td>0</td>\n",
       "      <td>1</td>\n",
       "      <td>(7.91, 14.454]</td>\n",
       "      <td>1</td>\n",
       "    </tr>\n",
       "    <tr>\n",
       "      <td>3</td>\n",
       "      <td>4</td>\n",
       "      <td>1</td>\n",
       "      <td>1</td>\n",
       "      <td>Futrelle, Mrs. Jacques Heath (Lily May Peel)</td>\n",
       "      <td>female</td>\n",
       "      <td>35.0</td>\n",
       "      <td>1</td>\n",
       "      <td>0</td>\n",
       "      <td>113803</td>\n",
       "      <td>53.1000</td>\n",
       "      <td>C123</td>\n",
       "      <td>S</td>\n",
       "      <td>Mrs</td>\n",
       "      <td>2</td>\n",
       "      <td>1</td>\n",
       "      <td>0</td>\n",
       "      <td>(31.0, 512.329]</td>\n",
       "      <td>3</td>\n",
       "    </tr>\n",
       "    <tr>\n",
       "      <td>4</td>\n",
       "      <td>5</td>\n",
       "      <td>0</td>\n",
       "      <td>3</td>\n",
       "      <td>Allen, Mr. William Henry</td>\n",
       "      <td>male</td>\n",
       "      <td>35.0</td>\n",
       "      <td>0</td>\n",
       "      <td>0</td>\n",
       "      <td>373450</td>\n",
       "      <td>8.0500</td>\n",
       "      <td>NaN</td>\n",
       "      <td>S</td>\n",
       "      <td>Mr</td>\n",
       "      <td>2</td>\n",
       "      <td>0</td>\n",
       "      <td>1</td>\n",
       "      <td>(7.91, 14.454]</td>\n",
       "      <td>1</td>\n",
       "    </tr>\n",
       "  </tbody>\n",
       "</table>\n",
       "</div>"
      ],
      "text/plain": [
       "   PassengerId  Survived  Pclass  \\\n",
       "0            1         0       3   \n",
       "1            2         1       1   \n",
       "2            3         1       3   \n",
       "3            4         1       1   \n",
       "4            5         0       3   \n",
       "\n",
       "                                                Name     Sex   Age  SibSp  \\\n",
       "0                            Braund, Mr. Owen Harris    male  22.0      1   \n",
       "1  Cumings, Mrs. John Bradley (Florence Briggs Th...  female  38.0      1   \n",
       "2                             Heikkinen, Miss. Laina  female  26.0      0   \n",
       "3       Futrelle, Mrs. Jacques Heath (Lily May Peel)  female  35.0      1   \n",
       "4                           Allen, Mr. William Henry    male  35.0      0   \n",
       "\n",
       "   Parch            Ticket     Fare Cabin Embarked Initial  Age_band  \\\n",
       "0      0         A/5 21171   7.2500   NaN        S      Mr         1   \n",
       "1      0          PC 17599  71.2833   C85        C     Mrs         2   \n",
       "2      0  STON/O2. 3101282   7.9250   NaN        S    Miss         1   \n",
       "3      0            113803  53.1000  C123        S     Mrs         2   \n",
       "4      0            373450   8.0500   NaN        S      Mr         2   \n",
       "\n",
       "   Family_Size  Alone       Fare_Range  Fare_cat  \n",
       "0            1      0   (-0.001, 7.91]         0  \n",
       "1            1      0  (31.0, 512.329]         3  \n",
       "2            0      1   (7.91, 14.454]         1  \n",
       "3            1      0  (31.0, 512.329]         3  \n",
       "4            0      1   (7.91, 14.454]         1  "
      ]
     },
     "execution_count": 33,
     "metadata": {},
     "output_type": "execute_result"
    }
   ],
   "source": [
    "data['Fare_cat'] = 0\n",
    "data.loc[data['Fare'] <=7.91, 'Fare_cat'] = 0\n",
    "data.loc[(data['Fare'] > 7.91)&(data['Fare'] <= 14.454), 'Fare_cat'] = 1\n",
    "data.loc[(data['Fare'] > 14.454)&(data['Fare'] <= 31), 'Fare_cat'] = 2\n",
    "data.loc[(data['Fare'] > 31)&(data['Fare'] <= 513), 'Fare_cat'] = 3\n",
    "data.head()\n",
    "\n"
   ]
  },
  {
   "cell_type": "code",
   "execution_count": 34,
   "metadata": {},
   "outputs": [
    {
     "data": {
      "image/png": "[encoded data removed]",
      "text/plain": [
       "<Figure size 426.125x360 with 1 Axes>"
      ]
     },
     "metadata": {
      "needs_background": "dark"
     },
     "output_type": "display_data"
    }
   ],
   "source": [
    "# factorplot 은 알아서 비율조정해줌!!\n",
    "sns.factorplot('Fare_cat', 'Survived', data=data ,hue='Sex')\n",
    "plt.show()"
   ]
  },
  {
   "cell_type": "code",
   "execution_count": 35,
   "metadata": {
    "scrolled": true
   },
   "outputs": [
    {
     "data": {
      "text/plain": [
       "PassengerId       int64\n",
       "Survived          int64\n",
       "Pclass            int64\n",
       "Name             object\n",
       "Sex              object\n",
       "Age             float64\n",
       "SibSp             int64\n",
       "Parch             int64\n",
       "Ticket           object\n",
       "Fare            float64\n",
       "Cabin            object\n",
       "Embarked         object\n",
       "Initial          object\n",
       "Age_band          int64\n",
       "Family_Size       int64\n",
       "Alone             int64\n",
       "Fare_Range     category\n",
       "Fare_cat          int64\n",
       "dtype: object"
      ]
     },
     "execution_count": 35,
     "metadata": {},
     "output_type": "execute_result"
    }
   ],
   "source": [
    "data.dtypes"
   ]
  },
  {
   "cell_type": "markdown",
   "metadata": {},
   "source": [
    "data['Sex'] , data['Initial'] 은 labelencoder가 되는데.. data['Embarked']는 왜\n",
    "labelencoder가 안되는지 모르겠음 아래코드.."
   ]
  },
  {
   "cell_type": "code",
   "execution_count": 36,
   "metadata": {},
   "outputs": [
    {
     "name": "stdout",
     "output_type": "stream",
     "text": [
      "(891, 18)\n"
     ]
    },
    {
     "data": {
      "text/html": [
       "<div>\n",
       "<style scoped>\n",
       "    .dataframe tbody tr th:only-of-type {\n",
       "        vertical-align: middle;\n",
       "    }\n",
       "\n",
       "    .dataframe tbody tr th {\n",
       "        vertical-align: top;\n",
       "    }\n",
       "\n",
       "    .dataframe thead th {\n",
       "        text-align: right;\n",
       "    }\n",
       "</style>\n",
       "<table border=\"1\" class=\"dataframe\">\n",
       "  <thead>\n",
       "    <tr style=\"text-align: right;\">\n",
       "      <th></th>\n",
       "      <th>PassengerId</th>\n",
       "      <th>Survived</th>\n",
       "      <th>Pclass</th>\n",
       "      <th>Name</th>\n",
       "      <th>Sex</th>\n",
       "      <th>Age</th>\n",
       "      <th>SibSp</th>\n",
       "      <th>Parch</th>\n",
       "      <th>Ticket</th>\n",
       "      <th>Fare</th>\n",
       "      <th>Cabin</th>\n",
       "      <th>Embarked</th>\n",
       "      <th>Initial</th>\n",
       "      <th>Age_band</th>\n",
       "      <th>Family_Size</th>\n",
       "      <th>Alone</th>\n",
       "      <th>Fare_Range</th>\n",
       "      <th>Fare_cat</th>\n",
       "    </tr>\n",
       "  </thead>\n",
       "  <tbody>\n",
       "    <tr>\n",
       "      <td>0</td>\n",
       "      <td>1</td>\n",
       "      <td>0</td>\n",
       "      <td>3</td>\n",
       "      <td>Braund, Mr. Owen Harris</td>\n",
       "      <td>male</td>\n",
       "      <td>22.0</td>\n",
       "      <td>1</td>\n",
       "      <td>0</td>\n",
       "      <td>A/5 21171</td>\n",
       "      <td>7.2500</td>\n",
       "      <td>NaN</td>\n",
       "      <td>S</td>\n",
       "      <td>Mr</td>\n",
       "      <td>1</td>\n",
       "      <td>1</td>\n",
       "      <td>0</td>\n",
       "      <td>(-0.001, 7.91]</td>\n",
       "      <td>0</td>\n",
       "    </tr>\n",
       "    <tr>\n",
       "      <td>1</td>\n",
       "      <td>2</td>\n",
       "      <td>1</td>\n",
       "      <td>1</td>\n",
       "      <td>Cumings, Mrs. John Bradley (Florence Briggs Th...</td>\n",
       "      <td>female</td>\n",
       "      <td>38.0</td>\n",
       "      <td>1</td>\n",
       "      <td>0</td>\n",
       "      <td>PC 17599</td>\n",
       "      <td>71.2833</td>\n",
       "      <td>C85</td>\n",
       "      <td>C</td>\n",
       "      <td>Mrs</td>\n",
       "      <td>2</td>\n",
       "      <td>1</td>\n",
       "      <td>0</td>\n",
       "      <td>(31.0, 512.329]</td>\n",
       "      <td>3</td>\n",
       "    </tr>\n",
       "    <tr>\n",
       "      <td>2</td>\n",
       "      <td>3</td>\n",
       "      <td>1</td>\n",
       "      <td>3</td>\n",
       "      <td>Heikkinen, Miss. Laina</td>\n",
       "      <td>female</td>\n",
       "      <td>26.0</td>\n",
       "      <td>0</td>\n",
       "      <td>0</td>\n",
       "      <td>STON/O2. 3101282</td>\n",
       "      <td>7.9250</td>\n",
       "      <td>NaN</td>\n",
       "      <td>S</td>\n",
       "      <td>Miss</td>\n",
       "      <td>1</td>\n",
       "      <td>0</td>\n",
       "      <td>1</td>\n",
       "      <td>(7.91, 14.454]</td>\n",
       "      <td>1</td>\n",
       "    </tr>\n",
       "    <tr>\n",
       "      <td>3</td>\n",
       "      <td>4</td>\n",
       "      <td>1</td>\n",
       "      <td>1</td>\n",
       "      <td>Futrelle, Mrs. Jacques Heath (Lily May Peel)</td>\n",
       "      <td>female</td>\n",
       "      <td>35.0</td>\n",
       "      <td>1</td>\n",
       "      <td>0</td>\n",
       "      <td>113803</td>\n",
       "      <td>53.1000</td>\n",
       "      <td>C123</td>\n",
       "      <td>S</td>\n",
       "      <td>Mrs</td>\n",
       "      <td>2</td>\n",
       "      <td>1</td>\n",
       "      <td>0</td>\n",
       "      <td>(31.0, 512.329]</td>\n",
       "      <td>3</td>\n",
       "    </tr>\n",
       "    <tr>\n",
       "      <td>4</td>\n",
       "      <td>5</td>\n",
       "      <td>0</td>\n",
       "      <td>3</td>\n",
       "      <td>Allen, Mr. William Henry</td>\n",
       "      <td>male</td>\n",
       "      <td>35.0</td>\n",
       "      <td>0</td>\n",
       "      <td>0</td>\n",
       "      <td>373450</td>\n",
       "      <td>8.0500</td>\n",
       "      <td>NaN</td>\n",
       "      <td>S</td>\n",
       "      <td>Mr</td>\n",
       "      <td>2</td>\n",
       "      <td>0</td>\n",
       "      <td>1</td>\n",
       "      <td>(7.91, 14.454]</td>\n",
       "      <td>1</td>\n",
       "    </tr>\n",
       "  </tbody>\n",
       "</table>\n",
       "</div>"
      ],
      "text/plain": [
       "   PassengerId  Survived  Pclass  \\\n",
       "0            1         0       3   \n",
       "1            2         1       1   \n",
       "2            3         1       3   \n",
       "3            4         1       1   \n",
       "4            5         0       3   \n",
       "\n",
       "                                                Name     Sex   Age  SibSp  \\\n",
       "0                            Braund, Mr. Owen Harris    male  22.0      1   \n",
       "1  Cumings, Mrs. John Bradley (Florence Briggs Th...  female  38.0      1   \n",
       "2                             Heikkinen, Miss. Laina  female  26.0      0   \n",
       "3       Futrelle, Mrs. Jacques Heath (Lily May Peel)  female  35.0      1   \n",
       "4                           Allen, Mr. William Henry    male  35.0      0   \n",
       "\n",
       "   Parch            Ticket     Fare Cabin Embarked Initial  Age_band  \\\n",
       "0      0         A/5 21171   7.2500   NaN        S      Mr         1   \n",
       "1      0          PC 17599  71.2833   C85        C     Mrs         2   \n",
       "2      0  STON/O2. 3101282   7.9250   NaN        S    Miss         1   \n",
       "3      0            113803  53.1000  C123        S     Mrs         2   \n",
       "4      0            373450   8.0500   NaN        S      Mr         2   \n",
       "\n",
       "   Family_Size  Alone       Fare_Range  Fare_cat  \n",
       "0            1      0   (-0.001, 7.91]         0  \n",
       "1            1      0  (31.0, 512.329]         3  \n",
       "2            0      1   (7.91, 14.454]         1  \n",
       "3            1      0  (31.0, 512.329]         3  \n",
       "4            0      1   (7.91, 14.454]         1  "
      ]
     },
     "execution_count": 36,
     "metadata": {},
     "output_type": "execute_result"
    }
   ],
   "source": [
    "# from sklearn.preprocessing import LabelEncoder\n",
    "\n",
    "\n",
    "# e = LabelEncoder()\n",
    "# data['Sex'] = e.fit_transform(data['Sex'])\n",
    "# data['Initial'] = e.fit_transform(data['Initial'])\n",
    "\n",
    "# dtype change\n",
    "# data[\"Embarked\"] = data[\"Embarked\"].astype(str)\n",
    "\n",
    "# print(data['Initial'].unique())\n",
    "# data.dtypes\n",
    "print(data.shape)\n",
    "data.head()"
   ]
  },
  {
   "cell_type": "code",
   "execution_count": 37,
   "metadata": {},
   "outputs": [],
   "source": [
    "data['Sex'].replace(['male', 'female'], [0,1], inplace=True)\n",
    "# data['Embarked'].replace(['S', 'C','Q'],[0,1,2], inplace=True)\n",
    "data['Initial'].replace(['Mr', 'Mrs', 'Miss', 'Master', 'Other'],[0,1,2,3,4], inplace=True)"
   ]
  },
  {
   "cell_type": "code",
   "execution_count": 38,
   "metadata": {},
   "outputs": [],
   "source": [
    "data.drop(['Name', 'Age', 'Ticket', 'Fare', 'Cabin', 'Fare_Range', 'PassengerId'], axis=1, inplace=True)\n"
   ]
  },
  {
   "cell_type": "code",
   "execution_count": 39,
   "metadata": {},
   "outputs": [],
   "source": [
    "from sklearn.linear_model import LogisticRegression\n",
    "from sklearn import svm\n",
    "from sklearn.ensemble import RandomForestClassifier\n",
    "from sklearn.neighbors import KNeighborsClassifier\n",
    "from sklearn.naive_bayes import GaussianNB\n",
    "from sklearn.tree import DecisionTreeClassifier\n",
    "from sklearn.model_selection import train_test_split\n",
    "from sklearn import metrics\n",
    "from sklearn.metrics import confusion_matrix"
   ]
  },
  {
   "cell_type": "code",
   "execution_count": 40,
   "metadata": {
    "scrolled": true
   },
   "outputs": [
    {
     "data": {
      "text/html": [
       "<div>\n",
       "<style scoped>\n",
       "    .dataframe tbody tr th:only-of-type {\n",
       "        vertical-align: middle;\n",
       "    }\n",
       "\n",
       "    .dataframe tbody tr th {\n",
       "        vertical-align: top;\n",
       "    }\n",
       "\n",
       "    .dataframe thead th {\n",
       "        text-align: right;\n",
       "    }\n",
       "</style>\n",
       "<table border=\"1\" class=\"dataframe\">\n",
       "  <thead>\n",
       "    <tr style=\"text-align: right;\">\n",
       "      <th></th>\n",
       "      <th>Survived</th>\n",
       "      <th>Pclass</th>\n",
       "      <th>Sex</th>\n",
       "      <th>SibSp</th>\n",
       "      <th>Parch</th>\n",
       "      <th>Embarked</th>\n",
       "      <th>Initial</th>\n",
       "      <th>Age_band</th>\n",
       "      <th>Family_Size</th>\n",
       "      <th>Alone</th>\n",
       "      <th>Fare_cat</th>\n",
       "    </tr>\n",
       "  </thead>\n",
       "  <tbody>\n",
       "    <tr>\n",
       "      <td>0</td>\n",
       "      <td>0</td>\n",
       "      <td>3</td>\n",
       "      <td>0</td>\n",
       "      <td>1</td>\n",
       "      <td>0</td>\n",
       "      <td>S</td>\n",
       "      <td>0</td>\n",
       "      <td>1</td>\n",
       "      <td>1</td>\n",
       "      <td>0</td>\n",
       "      <td>0</td>\n",
       "    </tr>\n",
       "    <tr>\n",
       "      <td>1</td>\n",
       "      <td>1</td>\n",
       "      <td>1</td>\n",
       "      <td>1</td>\n",
       "      <td>1</td>\n",
       "      <td>0</td>\n",
       "      <td>C</td>\n",
       "      <td>1</td>\n",
       "      <td>2</td>\n",
       "      <td>1</td>\n",
       "      <td>0</td>\n",
       "      <td>3</td>\n",
       "    </tr>\n",
       "    <tr>\n",
       "      <td>2</td>\n",
       "      <td>1</td>\n",
       "      <td>3</td>\n",
       "      <td>1</td>\n",
       "      <td>0</td>\n",
       "      <td>0</td>\n",
       "      <td>S</td>\n",
       "      <td>2</td>\n",
       "      <td>1</td>\n",
       "      <td>0</td>\n",
       "      <td>1</td>\n",
       "      <td>1</td>\n",
       "    </tr>\n",
       "    <tr>\n",
       "      <td>3</td>\n",
       "      <td>1</td>\n",
       "      <td>1</td>\n",
       "      <td>1</td>\n",
       "      <td>1</td>\n",
       "      <td>0</td>\n",
       "      <td>S</td>\n",
       "      <td>1</td>\n",
       "      <td>2</td>\n",
       "      <td>1</td>\n",
       "      <td>0</td>\n",
       "      <td>3</td>\n",
       "    </tr>\n",
       "    <tr>\n",
       "      <td>4</td>\n",
       "      <td>0</td>\n",
       "      <td>3</td>\n",
       "      <td>0</td>\n",
       "      <td>0</td>\n",
       "      <td>0</td>\n",
       "      <td>S</td>\n",
       "      <td>0</td>\n",
       "      <td>2</td>\n",
       "      <td>0</td>\n",
       "      <td>1</td>\n",
       "      <td>1</td>\n",
       "    </tr>\n",
       "  </tbody>\n",
       "</table>\n",
       "</div>"
      ],
      "text/plain": [
       "   Survived  Pclass  Sex  SibSp  Parch Embarked  Initial  Age_band  \\\n",
       "0         0       3    0      1      0        S        0         1   \n",
       "1         1       1    1      1      0        C        1         2   \n",
       "2         1       3    1      0      0        S        2         1   \n",
       "3         1       1    1      1      0        S        1         2   \n",
       "4         0       3    0      0      0        S        0         2   \n",
       "\n",
       "   Family_Size  Alone  Fare_cat  \n",
       "0            1      0         0  \n",
       "1            1      0         3  \n",
       "2            0      1         1  \n",
       "3            1      0         3  \n",
       "4            0      1         1  "
      ]
     },
     "execution_count": 40,
     "metadata": {},
     "output_type": "execute_result"
    }
   ],
   "source": [
    "data.head()"
   ]
  },
  {
   "cell_type": "markdown",
   "metadata": {},
   "source": [
    "data['Embarked'] 만 따로 원핫인코딩을 해줌!!"
   ]
  },
  {
   "cell_type": "code",
   "execution_count": 41,
   "metadata": {},
   "outputs": [
    {
     "data": {
      "text/html": [
       "<div>\n",
       "<style scoped>\n",
       "    .dataframe tbody tr th:only-of-type {\n",
       "        vertical-align: middle;\n",
       "    }\n",
       "\n",
       "    .dataframe tbody tr th {\n",
       "        vertical-align: top;\n",
       "    }\n",
       "\n",
       "    .dataframe thead th {\n",
       "        text-align: right;\n",
       "    }\n",
       "</style>\n",
       "<table border=\"1\" class=\"dataframe\">\n",
       "  <thead>\n",
       "    <tr style=\"text-align: right;\">\n",
       "      <th></th>\n",
       "      <th>Survived</th>\n",
       "      <th>Pclass</th>\n",
       "      <th>Sex</th>\n",
       "      <th>SibSp</th>\n",
       "      <th>Parch</th>\n",
       "      <th>Initial</th>\n",
       "      <th>Age_band</th>\n",
       "      <th>Family_Size</th>\n",
       "      <th>Alone</th>\n",
       "      <th>Fare_cat</th>\n",
       "      <th>Em_C</th>\n",
       "      <th>Em_Q</th>\n",
       "      <th>Em_S</th>\n",
       "    </tr>\n",
       "  </thead>\n",
       "  <tbody>\n",
       "    <tr>\n",
       "      <td>0</td>\n",
       "      <td>0</td>\n",
       "      <td>3</td>\n",
       "      <td>0</td>\n",
       "      <td>1</td>\n",
       "      <td>0</td>\n",
       "      <td>0</td>\n",
       "      <td>1</td>\n",
       "      <td>1</td>\n",
       "      <td>0</td>\n",
       "      <td>0</td>\n",
       "      <td>0</td>\n",
       "      <td>0</td>\n",
       "      <td>1</td>\n",
       "    </tr>\n",
       "    <tr>\n",
       "      <td>1</td>\n",
       "      <td>1</td>\n",
       "      <td>1</td>\n",
       "      <td>1</td>\n",
       "      <td>1</td>\n",
       "      <td>0</td>\n",
       "      <td>1</td>\n",
       "      <td>2</td>\n",
       "      <td>1</td>\n",
       "      <td>0</td>\n",
       "      <td>3</td>\n",
       "      <td>1</td>\n",
       "      <td>0</td>\n",
       "      <td>0</td>\n",
       "    </tr>\n",
       "    <tr>\n",
       "      <td>2</td>\n",
       "      <td>1</td>\n",
       "      <td>3</td>\n",
       "      <td>1</td>\n",
       "      <td>0</td>\n",
       "      <td>0</td>\n",
       "      <td>2</td>\n",
       "      <td>1</td>\n",
       "      <td>0</td>\n",
       "      <td>1</td>\n",
       "      <td>1</td>\n",
       "      <td>0</td>\n",
       "      <td>0</td>\n",
       "      <td>1</td>\n",
       "    </tr>\n",
       "    <tr>\n",
       "      <td>3</td>\n",
       "      <td>1</td>\n",
       "      <td>1</td>\n",
       "      <td>1</td>\n",
       "      <td>1</td>\n",
       "      <td>0</td>\n",
       "      <td>1</td>\n",
       "      <td>2</td>\n",
       "      <td>1</td>\n",
       "      <td>0</td>\n",
       "      <td>3</td>\n",
       "      <td>0</td>\n",
       "      <td>0</td>\n",
       "      <td>1</td>\n",
       "    </tr>\n",
       "    <tr>\n",
       "      <td>4</td>\n",
       "      <td>0</td>\n",
       "      <td>3</td>\n",
       "      <td>0</td>\n",
       "      <td>0</td>\n",
       "      <td>0</td>\n",
       "      <td>0</td>\n",
       "      <td>2</td>\n",
       "      <td>0</td>\n",
       "      <td>1</td>\n",
       "      <td>1</td>\n",
       "      <td>0</td>\n",
       "      <td>0</td>\n",
       "      <td>1</td>\n",
       "    </tr>\n",
       "  </tbody>\n",
       "</table>\n",
       "</div>"
      ],
      "text/plain": [
       "   Survived  Pclass  Sex  SibSp  Parch  Initial  Age_band  Family_Size  Alone  \\\n",
       "0         0       3    0      1      0        0         1            1      0   \n",
       "1         1       1    1      1      0        1         2            1      0   \n",
       "2         1       3    1      0      0        2         1            0      1   \n",
       "3         1       1    1      1      0        1         2            1      0   \n",
       "4         0       3    0      0      0        0         2            0      1   \n",
       "\n",
       "   Fare_cat  Em_C  Em_Q  Em_S  \n",
       "0         0     0     0     1  \n",
       "1         3     1     0     0  \n",
       "2         1     0     0     1  \n",
       "3         3     0     0     1  \n",
       "4         1     0     0     1  "
      ]
     },
     "execution_count": 41,
     "metadata": {},
     "output_type": "execute_result"
    }
   ],
   "source": [
    "# onehot encoding \n",
    "data = pd.get_dummies(data=data, columns=['Embarked'], prefix='Em')\n",
    "data.head()"
   ]
  },
  {
   "cell_type": "code",
   "execution_count": 42,
   "metadata": {},
   "outputs": [],
   "source": [
    "train, test = train_test_split(data, test_size=0.3 , random_state=0, stratify = data['Survived'])\n",
    "\n",
    "train_X = train[train.columns[1:]]\n",
    "train_Y = train[train.columns[:1]]\n",
    "test_X = test[test.columns[1:]]\n",
    "test_Y = test[test.columns[:1]]\n",
    "X = data[data.columns[1:]]\n",
    "Y = data['Survived']"
   ]
  },
  {
   "cell_type": "code",
   "execution_count": 43,
   "metadata": {},
   "outputs": [
    {
     "name": "stdout",
     "output_type": "stream",
     "text": [
      "Accuracy for rbf SVM is :  0.835820895522388\n"
     ]
    }
   ],
   "source": [
    "model = svm.SVC(kernel='rbf', C=1, gamma=0.1)\n",
    "model.fit(train_X ,train_Y)\n",
    "prediction1 = model.predict(test_X)\n",
    "print('Accuracy for rbf SVM is : ', metrics.accuracy_score(prediction1, test_Y))"
   ]
  },
  {
   "cell_type": "code",
   "execution_count": 44,
   "metadata": {},
   "outputs": [
    {
     "name": "stdout",
     "output_type": "stream",
     "text": [
      "Accuracy of the Logistic Regreesion is :  0.8134328358208955\n"
     ]
    }
   ],
   "source": [
    "model = LogisticRegression()\n",
    "model.fit(train_X, train_Y)\n",
    "prediction2 = model.predict(test_X)\n",
    "print('Accuracy of the Logistic Regreesion is : ', metrics.accuracy_score(prediction2, test_Y))"
   ]
  },
  {
   "cell_type": "code",
   "execution_count": 45,
   "metadata": {},
   "outputs": [
    {
     "name": "stdout",
     "output_type": "stream",
     "text": [
      "Auccuracy of the KNN is :  0.8171641791044776\n"
     ]
    }
   ],
   "source": [
    "model = KNeighborsClassifier()\n",
    "model.fit(train_X , train_Y)\n",
    "prediction3 = model.predict(test_X)\n",
    "print('Auccuracy of the KNN is : ', metrics.accuracy_score(prediction3, test_Y))"
   ]
  },
  {
   "cell_type": "code",
   "execution_count": 46,
   "metadata": {},
   "outputs": [
    {
     "data": {
      "image/png": "[encoded data removed]",
      "text/plain": [
       "<Figure size 864x432 with 1 Axes>"
      ]
     },
     "metadata": {
      "needs_background": "dark"
     },
     "output_type": "display_data"
    },
    {
     "name": "stdout",
     "output_type": "stream",
     "text": [
      "Accuracy for different calues of n are:  [0.76119403 0.79104478 0.82835821 0.80970149 0.81716418 0.83208955\n",
      " 0.82462687 0.81716418 0.82462687 0.83208955] and max values  0.832089552238806\n"
     ]
    }
   ],
   "source": [
    "a_index = list(range(1,11))\n",
    "a = pd.Series()\n",
    "# x = [0, 1, 2, 3, 4, 5, 6, 7, 8, 9, 10]\n",
    "for i in list(range(1,11)):\n",
    "    model = KNeighborsClassifier(n_neighbors=i)\n",
    "    model.fit(train_X, train_Y)\n",
    "    prediction = model.predict(test_X)\n",
    "    a = a.append(pd.Series(metrics.accuracy_score(prediction, test_Y)))\n",
    "\n",
    "plt.plot(a_index, a)\n",
    "plt.xticks(a_index)\n",
    "fig=plt.gcf()\n",
    "fig.set_size_inches(12,6)\n",
    "plt.show()\n",
    "print('Accuracy for different calues of n are: ', a.values, 'and max values ', a.values.max())\n",
    "    "
   ]
  },
  {
   "cell_type": "code",
   "execution_count": 47,
   "metadata": {},
   "outputs": [
    {
     "name": "stdout",
     "output_type": "stream",
     "text": [
      "Accuracy of the Naivebayes :  0.7910447761194029\n"
     ]
    }
   ],
   "source": [
    "model = GaussianNB()\n",
    "model.fit(train_X, train_Y)\n",
    "prediction4 = model.predict(test_X)\n",
    "print('Accuracy of the Naivebayes : ' ,metrics.accuracy_score(prediction4 ,test_Y))"
   ]
  },
  {
   "cell_type": "code",
   "execution_count": 48,
   "metadata": {},
   "outputs": [
    {
     "name": "stdout",
     "output_type": "stream",
     "text": [
      "Accuracy of the Random Forests :  0.8208955223880597\n"
     ]
    }
   ],
   "source": [
    "model = RandomForestClassifier(n_estimators=200) #결정트리 개수(적당히 많은 수가 좋음 그만큼 cost가 높다)\n",
    "model.fit(train_X, train_Y)\n",
    "prediction5 = model.predict(test_X)\n",
    "print('Accuracy of the Random Forests : ', metrics.accuracy_score(prediction5, test_Y))"
   ]
  },
  {
   "cell_type": "code",
   "execution_count": 49,
   "metadata": {},
   "outputs": [
    {
     "data": {
      "text/html": [
       "<div>\n",
       "<style scoped>\n",
       "    .dataframe tbody tr th:only-of-type {\n",
       "        vertical-align: middle;\n",
       "    }\n",
       "\n",
       "    .dataframe tbody tr th {\n",
       "        vertical-align: top;\n",
       "    }\n",
       "\n",
       "    .dataframe thead th {\n",
       "        text-align: right;\n",
       "    }\n",
       "</style>\n",
       "<table border=\"1\" class=\"dataframe\">\n",
       "  <thead>\n",
       "    <tr style=\"text-align: right;\">\n",
       "      <th></th>\n",
       "      <th>CV mean</th>\n",
       "      <th>Max_predict</th>\n",
       "      <th>Std</th>\n",
       "    </tr>\n",
       "  </thead>\n",
       "  <tbody>\n",
       "    <tr>\n",
       "      <td>Linear Svm</td>\n",
       "      <td>0.799089</td>\n",
       "      <td>0.876404</td>\n",
       "      <td>0.051400</td>\n",
       "    </tr>\n",
       "    <tr>\n",
       "      <td>Radial Svm</td>\n",
       "      <td>0.829413</td>\n",
       "      <td>0.876404</td>\n",
       "      <td>0.034694</td>\n",
       "    </tr>\n",
       "    <tr>\n",
       "      <td>Logistic Regression</td>\n",
       "      <td>0.810325</td>\n",
       "      <td>0.853933</td>\n",
       "      <td>0.020989</td>\n",
       "    </tr>\n",
       "    <tr>\n",
       "      <td>KNN</td>\n",
       "      <td>0.804831</td>\n",
       "      <td>0.876404</td>\n",
       "      <td>0.045324</td>\n",
       "    </tr>\n",
       "    <tr>\n",
       "      <td>Decision Tree</td>\n",
       "      <td>0.810362</td>\n",
       "      <td>0.853933</td>\n",
       "      <td>0.030058</td>\n",
       "    </tr>\n",
       "    <tr>\n",
       "      <td>Naive Bayes</td>\n",
       "      <td>0.787940</td>\n",
       "      <td>0.831461</td>\n",
       "      <td>0.033377</td>\n",
       "    </tr>\n",
       "    <tr>\n",
       "      <td>Random Forest</td>\n",
       "      <td>0.810350</td>\n",
       "      <td>0.865169</td>\n",
       "      <td>0.030986</td>\n",
       "    </tr>\n",
       "  </tbody>\n",
       "</table>\n",
       "</div>"
      ],
      "text/plain": [
       "                      CV mean  Max_predict       Std\n",
       "Linear Svm           0.799089     0.876404  0.051400\n",
       "Radial Svm           0.829413     0.876404  0.034694\n",
       "Logistic Regression  0.810325     0.853933  0.020989\n",
       "KNN                  0.804831     0.876404  0.045324\n",
       "Decision Tree        0.810362     0.853933  0.030058\n",
       "Naive Bayes          0.787940     0.831461  0.033377\n",
       "Random Forest        0.810350     0.865169  0.030986"
      ]
     },
     "execution_count": 49,
     "metadata": {},
     "output_type": "execute_result"
    }
   ],
   "source": [
    "from sklearn.model_selection import KFold\n",
    "from sklearn.model_selection import cross_val_score\n",
    "from sklearn.model_selection import cross_val_predict\n",
    "kfold = KFold(n_splits = 10, random_state=1)\n",
    "xyz=[]\n",
    "accuracy = []\n",
    "std = []\n",
    "max_num = []\n",
    "\n",
    "classifiers = ['Linear Svm', 'Radial Svm', 'Logistic Regression', 'KNN', 'Decision Tree', 'Naive Bayes', 'Random Forest']\n",
    "\n",
    "models = [svm.SVC(kernel = 'linear'), svm.SVC(kernel = 'rbf'), LogisticRegression(), KNeighborsClassifier(n_neighbors=9), DecisionTreeClassifier(), GaussianNB(), RandomForestClassifier(n_estimators=200)]\n",
    "\n",
    "for model in models:\n",
    "    cv_result = cross_val_score(model, X, Y, cv=kfold, scoring='accuracy')\n",
    "    xyz.append(cv_result.mean())\n",
    "    std.append(cv_result.std())\n",
    "    max_num.append(cv_result.max())\n",
    "    accuracy.append(cv_result)\n",
    "\n",
    "new_df = pd.DataFrame({'CV mean': xyz, 'Max_predict' : max_num ,'Std': std } , index=classifiers)\n",
    "\n",
    "# for acc in list(accuracy):\n",
    "#     print(max(acc))\n",
    "\n",
    "new_df\n",
    "    "
   ]
  },
  {
   "cell_type": "code",
   "execution_count": 50,
   "metadata": {},
   "outputs": [
    {
     "data": {
      "text/plain": [
       "<matplotlib.axes._subplots.AxesSubplot at 0x16033361488>"
      ]
     },
     "execution_count": 50,
     "metadata": {},
     "output_type": "execute_result"
    },
    {
     "data": {
      "image/png": "[encoded data removed]",
      "text/plain": [
       "<Figure size 864x432 with 1 Axes>"
      ]
     },
     "metadata": {
      "needs_background": "dark"
     },
     "output_type": "display_data"
    }
   ],
   "source": [
    "plt.subplots(figsize=(12,6))\n",
    "box = pd.DataFrame(accuracy, index=[classifiers])\n",
    "box.T.boxplot()"
   ]
  },
  {
   "cell_type": "code",
   "execution_count": 51,
   "metadata": {},
   "outputs": [
    {
     "data": {
      "image/png": "[encoded data removed]",
      "text/plain": [
       "<Figure size 576x360 with 1 Axes>"
      ]
     },
     "metadata": {
      "needs_background": "dark"
     },
     "output_type": "display_data"
    }
   ],
   "source": [
    "# 기존 data bar는 자동으로 다양한 color설정이 되었는데 여기선 이유를 모르겠지만 안되서 직접 color 넣어줌!\n",
    "\n",
    "colors = ['salmon', 'orange', 'cadetblue', 'skyblue', 'red', 'green', 'pink']\n",
    "new_df['CV mean'].plot.barh(width = 0.8, color= colors)\n",
    "plt.title('Average CV Mean Accuracy')\n",
    "fig= plt.gcf()\n",
    "fig.set_size_inches(8,5)\n",
    "plt.show()"
   ]
  },
  {
   "cell_type": "code",
   "execution_count": 52,
   "metadata": {},
   "outputs": [
    {
     "data": {
      "image/png": "[encoded data removed]",
      "text/plain": [
       "<Figure size 864x576 with 8 Axes>"
      ]
     },
     "metadata": {
      "needs_background": "dark"
     },
     "output_type": "display_data"
    }
   ],
   "source": [
    "f ,ax = plt.subplots(2,2, figsize=(12,8))\n",
    "\n",
    "y_pred = cross_val_predict(svm.SVC(kernel='rbf'), X, Y, cv=10)\n",
    "sns.heatmap(confusion_matrix(Y, y_pred), ax=ax[0,0], annot=True, fmt='2.0f')\n",
    "ax[0,0].set_title('Matrix for rbf-SVM')\n",
    "ax[0,0].set_ylim(2.0 , 0) # 또 버전때문에 matrix 깨져서 또 수정함!!!\n",
    "\n",
    "y_pred = cross_val_predict(KNeighborsClassifier(n_neighbors=9), X,Y, cv=10)\n",
    "sns.heatmap(confusion_matrix(Y, y_pred), ax=ax[0,1], annot=True, fmt='2.0f')\n",
    "ax[0,1].set_title('Matrix for KNN')\n",
    "ax[0,1].set_ylim(2.0 , 0)\n",
    "\n",
    "y_pred = cross_val_predict(LogisticRegression(), X,Y, cv=10)\n",
    "sns.heatmap(confusion_matrix(Y, y_pred), ax=ax[1,0], annot=True, fmt='2.0f')\n",
    "ax[1, 0].set_title('Matrix for Logistic Regression')\n",
    "ax[1,0].set_ylim(2.0 , 0)\n",
    "\n",
    "y_pred = cross_val_predict(GaussianNB(), X,Y, cv=10)\n",
    "sns.heatmap(confusion_matrix(Y, y_pred), ax=ax[1,1], annot=True, fmt='2.0f')\n",
    "ax[1, 1].set_title('Matrix for Naive Bayes')\n",
    "ax[1, 1].set_ylim(2.0 , 0)\n",
    "# plt.subplots_adjust(hspace=0.2 ,wspace=0.2)\n",
    "plt.show()"
   ]
  },
  {
   "cell_type": "code",
   "execution_count": 53,
   "metadata": {},
   "outputs": [
    {
     "name": "stdout",
     "output_type": "stream",
     "text": [
      "Fitting 3 folds for each of 200 candidates, totalling 600 fits\n"
     ]
    },
    {
     "name": "stderr",
     "output_type": "stream",
     "text": [
      "[Parallel(n_jobs=1)]: Using backend SequentialBackend with 1 concurrent workers.\n"
     ]
    },
    {
     "name": "stdout",
     "output_type": "stream",
     "text": [
      "0.8305274971941639\n",
      "SVC(C=1, cache_size=200, class_weight=None, coef0=0.0,\n",
      "    decision_function_shape='ovr', degree=3, gamma=0.2, kernel='rbf',\n",
      "    max_iter=-1, probability=False, random_state=None, shrinking=True,\n",
      "    tol=0.001, verbose=False)\n"
     ]
    },
    {
     "name": "stderr",
     "output_type": "stream",
     "text": [
      "[Parallel(n_jobs=1)]: Done 600 out of 600 | elapsed:    5.4s finished\n"
     ]
    }
   ],
   "source": [
    "from sklearn.model_selection import GridSearchCV\n",
    "\n",
    "C = [0.05 , 0.1, 0.2, 0.3, 0.25, 0.4, 0.15, 0.8, 0.9, 1 ]\n",
    "gamma = [0.1, 0.2, 0.3, 0.4, 0.5, 0.6, 0.7, 0.8, 0.9, 1.0]\n",
    "kernel = ['rbf', 'linear']\n",
    "\n",
    "hyper = {'kernel': kernel , 'C':C, 'gamma' : gamma}\n",
    "gd = GridSearchCV(estimator=svm.SVC(), param_grid=hyper, verbose=True)\n",
    "gd.fit(X,Y)\n",
    "print(gd.best_score_)\n",
    "print(gd.best_estimator_)"
   ]
  },
  {
   "cell_type": "code",
   "execution_count": 54,
   "metadata": {},
   "outputs": [
    {
     "name": "stderr",
     "output_type": "stream",
     "text": [
      "[Parallel(n_jobs=1)]: Using backend SequentialBackend with 1 concurrent workers.\n"
     ]
    },
    {
     "name": "stdout",
     "output_type": "stream",
     "text": [
      "Fitting 3 folds for each of 9 candidates, totalling 27 fits\n"
     ]
    },
    {
     "name": "stderr",
     "output_type": "stream",
     "text": [
      "[Parallel(n_jobs=1)]: Done  27 out of  27 | elapsed:   14.7s finished\n"
     ]
    },
    {
     "name": "stdout",
     "output_type": "stream",
     "text": [
      "0.8125701459034792\n",
      "RandomForestClassifier(bootstrap=True, class_weight=None, criterion='gini',\n",
      "                       max_depth=None, max_features='auto', max_leaf_nodes=None,\n",
      "                       min_impurity_decrease=0.0, min_impurity_split=None,\n",
      "                       min_samples_leaf=1, min_samples_split=2,\n",
      "                       min_weight_fraction_leaf=0.0, n_estimators=400,\n",
      "                       n_jobs=None, oob_score=False, random_state=0, verbose=0,\n",
      "                       warm_start=False)\n"
     ]
    }
   ],
   "source": [
    "n_estimators = range(100, 1000, 100)\n",
    "hyper = {'n_estimators' : n_estimators}\n",
    "gd = GridSearchCV(estimator = RandomForestClassifier(random_state = 0), param_grid=hyper, verbose = True)\n",
    "gd.fit(X,Y)\n",
    "print(gd.best_score_)\n",
    "print(gd.best_estimator_)"
   ]
  },
  {
   "cell_type": "code",
   "execution_count": 55,
   "metadata": {},
   "outputs": [
    {
     "name": "stdout",
     "output_type": "stream",
     "text": [
      "The accuracy for ensembled model is:  0.8246268656716418\n",
      "The cross validated score is 0.8237912836227442\n"
     ]
    }
   ],
   "source": [
    "#voting = 'soft', 'hard' , 개별 분류기의 예측을 평균 내어 확률이 가장 높은 클래스로 예측한다.\n",
    "#간접 투표 분류기 (직접투표방식보다 성능이 높다. 즉 'hard' 보다 높다)\n",
    "from sklearn.ensemble import VotingClassifier\n",
    "\n",
    "ensemble_lin_rbf= VotingClassifier(estimators = [('KNN', KNeighborsClassifier(n_neighbors=10)),('RBF',svm.SVC(probability=True, kernel='rbf', C=0.5, gamma=0.1)),('RFor',RandomForestClassifier(n_estimators=500, random_state = 0)),('LR',LogisticRegression(C=0.05)),('DT', DecisionTreeClassifier(random_state=0)), ('NB', GaussianNB()),('svm',svm.SVC(kernel= 'linear', probability = True))],voting='soft').fit(train_X, train_Y)\n",
    "print('The accuracy for ensembled model is: ', ensemble_lin_rbf.score(test_X, test_Y))\n",
    "cross = cross_val_score(ensemble_lin_rbf,X,Y, cv= 10, scoring= \"accuracy\")\n",
    "print('The cross validated score is', cross.mean())"
   ]
  },
  {
   "cell_type": "code",
   "execution_count": 56,
   "metadata": {},
   "outputs": [
    {
     "name": "stdout",
     "output_type": "stream",
     "text": [
      "The accuracy for bagged Random Forest is: 0.8246268656716418\n",
      "The cross validated score for bagged Random Forest is: 0.8215687776642833\n"
     ]
    }
   ],
   "source": [
    "from sklearn.ensemble import BaggingClassifier\n",
    "\n",
    "\n",
    "# bagging 은 bootstrapping 방법으로 샘플링 하는것이 핵심\n",
    "# model = BaggingClassifier(base_estimator=KNeighborsClassifier(n_neighbors=3), random_state=0, n_estimators= 700)\n",
    "\n",
    "model = BaggingClassifier(base_estimator=RandomForestClassifier(random_state=0, n_estimators= 100),n_estimators=15)\n",
    "model.fit(train_X, train_Y)\n",
    "prediction= model.predict(test_X)\n",
    "print('The accuracy for bagged Random Forest is:', metrics.accuracy_score(prediction,test_Y))\n",
    "result = cross_val_score(model, X,Y, cv=10, scoring='accuracy')\n",
    "print('The cross validated score for bagged Random Forest is:', result.mean())"
   ]
  },
  {
   "cell_type": "code",
   "execution_count": 57,
   "metadata": {},
   "outputs": [
    {
     "name": "stdout",
     "output_type": "stream",
     "text": [
      "The cross validated score for AdaBoost is:  0.8282652613087397\n"
     ]
    }
   ],
   "source": [
    "from sklearn.ensemble import AdaBoostClassifier\n",
    "ada = AdaBoostClassifier(n_estimators=200, random_state=0, learning_rate= 0.1)\n",
    "# ada.fit(train_X, train_Y)\n",
    "# prediction = ada.predict(test_X)\n",
    "# print(metrics.accuracy_score(prediction, test_Y))\n",
    "\n",
    "result = cross_val_score(ada, X, Y, cv=20, scoring='accuracy')\n",
    "print('The cross validated score for AdaBoost is: ', result.mean())"
   ]
  },
  {
   "cell_type": "code",
   "execution_count": 58,
   "metadata": {},
   "outputs": [
    {
     "name": "stdout",
     "output_type": "stream",
     "text": [
      "The cross validated score for Gradient Boosting is:  0.810433265236636\n"
     ]
    }
   ],
   "source": [
    "from sklearn.ensemble import GradientBoostingClassifier\n",
    "grad = GradientBoostingClassifier(n_estimators = 500, random_state=0, learning_rate=0.1)\n",
    "\n",
    "# grad.fit(train_X, train_Y)\n",
    "# prediction = grad.predict(test_X)\n",
    "# print(metrics.accuracy_score(prediction, test_Y))\n",
    "\n",
    "result = cross_val_score(grad, X, Y, cv=10, scoring= 'accuracy')\n",
    "print('The cross validated score for Gradient Boosting is: ', result.mean())"
   ]
  },
  {
   "cell_type": "code",
   "execution_count": 59,
   "metadata": {},
   "outputs": [
    {
     "name": "stdout",
     "output_type": "stream",
     "text": [
      "The cross validated score for XGBoost is: 0.8160259902394735\n"
     ]
    }
   ],
   "source": [
    "import xgboost as xg\n",
    "xgboost = xg.XGBClassifier(n_estimators = 900, learning_rate= 0.1)\n",
    "\n",
    "# xgboost.fit(train_X, train_Y)\n",
    "# prediction = xgboost.predict(test_X)\n",
    "# print(metrics.accuracy_score(prediction, test_Y))\n",
    "\n",
    "result = cross_val_score(xgboost, X, Y, cv=10, scoring='accuracy')\n",
    "print('The cross validated score for XGBoost is:', result.mean())"
   ]
  },
  {
   "cell_type": "code",
   "execution_count": 60,
   "metadata": {
    "scrolled": false
   },
   "outputs": [
    {
     "name": "stdout",
     "output_type": "stream",
     "text": [
      "Fitting 3 folds for each of 120 candidates, totalling 360 fits\n"
     ]
    },
    {
     "name": "stderr",
     "output_type": "stream",
     "text": [
      "[Parallel(n_jobs=1)]: Using backend SequentialBackend with 1 concurrent workers.\n",
      "[Parallel(n_jobs=1)]: Done 360 out of 360 | elapsed:  3.6min finished\n"
     ]
    },
    {
     "name": "stdout",
     "output_type": "stream",
     "text": [
      "{'learning_rate': 0.05, 'n_estimators': 200}\n"
     ]
    }
   ],
   "source": [
    "n_estimators = list(range(100, 1100, 100))\n",
    "learn_rate = [0.05, 0.1, 0.2, 0.3, 0.25, 0.4, 0.5, 0.6, 0.7, 0.8, 0.9, 1]\n",
    "hyper = {'n_estimators': n_estimators, 'learning_rate': learn_rate}\n",
    "gd= GridSearchCV(estimator=AdaBoostClassifier(),param_grid=hyper, verbose=True)\n",
    "gd.fit(X,Y)\n",
    "\n",
    "# print(gd.best_score_)\n",
    "# print(gd.best_estimator_)\n",
    "print(gd.best_params_)\n",
    "\n"
   ]
  },
  {
   "cell_type": "markdown",
   "metadata": {},
   "source": [
    "validation_curve 함수는 최적화할 파라미터 이름과 범위, 그리고 성능 기준을 param_name, param_range, scoring 인수로 받아 파라미터 범위의 모든 경우에 대해 성능 기준을 계산한다."
   ]
  },
  {
   "cell_type": "code",
   "execution_count": 61,
   "metadata": {},
   "outputs": [],
   "source": [
    "from sklearn.model_selection import validation_curve\n",
    "param_range = np.logspace(-10, -1, 10)\n",
    "train_scores, test_scores = validation_curve(svm.SVC(), X, Y,\n",
    "                     param_name=\"gamma\", param_range=param_range,\n",
    "                     cv=10, scoring=\"accuracy\", n_jobs=1)"
   ]
  },
  {
   "cell_type": "code",
   "execution_count": 62,
   "metadata": {},
   "outputs": [
    {
     "data": {
      "image/png": "[encoded data removed]",
      "text/plain": [
       "<Figure size 432x288 with 1 Axes>"
      ]
     },
     "metadata": {
      "needs_background": "dark"
     },
     "output_type": "display_data"
    }
   ],
   "source": [
    "train_scores_mean = np.mean(train_scores, axis=1)\n",
    "train_scores_std = np.std(train_scores, axis=1)\n",
    "test_scores_mean = np.mean(test_scores, axis=1)\n",
    "test_scores_std = np.std(test_scores, axis=1)\n",
    "\n",
    "plt.rcParams[\"font.family\"] = 'DejaVu Sans'\n",
    "plt.semilogx(param_range, train_scores_mean, label=\"Training score\", color=\"r\")\n",
    "plt.fill_between(param_range, train_scores_mean - train_scores_std,\n",
    "                 train_scores_mean + train_scores_std, alpha=0.2, color=\"r\")\n",
    "plt.semilogx(param_range, test_scores_mean,\n",
    "             label=\"Cross-validation score\", color=\"g\")\n",
    "plt.fill_between(param_range, test_scores_mean - test_scores_std,\n",
    "                 test_scores_mean + test_scores_std, alpha=0.2, color=\"g\")\n",
    "\n",
    "plt.legend(loc=\"best\")\n",
    "plt.title(\"Validation Curve with SVM\")\n",
    "plt.xlabel(\"$\\gamma$\")\n",
    "plt.ylabel(\"Score\")\n",
    "plt.ylim(0.0, 1.1)\n",
    "plt.show()\n"
   ]
  },
  {
   "cell_type": "code",
   "execution_count": 63,
   "metadata": {},
   "outputs": [
    {
     "data": {
      "image/png": "[encoded data removed]",
      "text/plain": [
       "<Figure size 432x288 with 2 Axes>"
      ]
     },
     "metadata": {
      "needs_background": "dark"
     },
     "output_type": "display_data"
    }
   ],
   "source": [
    "ada=AdaBoostClassifier(n_estimators=200, random_state=0, learning_rate=0.05)\n",
    "result = cross_val_predict(ada, X, Y, cv=10)\n",
    "sns.heatmap(confusion_matrix(Y, result), cmap='winter', annot= True, fmt ='2.0f')\n",
    "\n",
    "b, t = plt.ylim() # discover the values for bottom and top\n",
    "b += 0.5 # Add 0.5 to the bottom\n",
    "t -= 0.5 # Subtract 0.5 from the top\n",
    "plt.ylim(b, t) \n",
    "plt.show()"
   ]
  },
  {
   "cell_type": "code",
   "execution_count": 64,
   "metadata": {},
   "outputs": [
    {
     "data": {
      "image/png": "[encoded data removed]",
      "text/plain": [
       "<Figure size 1080x864 with 4 Axes>"
      ]
     },
     "metadata": {
      "needs_background": "dark"
     },
     "output_type": "display_data"
    }
   ],
   "source": [
    "f, ax= plt.subplots(2, 2, figsize=(15,12))\n",
    "model = RandomForestClassifier(n_estimators=500, random_state=0)\n",
    "model.fit(X, Y)\n",
    "pd.Series(model.feature_importances_, X.columns).sort_values(ascending=True).plot.barh(width=0.8, ax=ax[0,0])\n",
    "ax[0,0].set_title('Feature Importance in Random Forests')\n",
    "\n",
    "model=AdaBoostClassifier(n_estimators=200, learning_rate=0.05, random_state=0)\n",
    "model.fit(X ,Y)\n",
    "pd.Series(model.feature_importances_,X.columns).sort_values(ascending=True).plot.barh(width=0.8,ax=ax[0,1],color='#ddff11')\n",
    "ax[0,1].set_title('Feature Importance in AdaBoost')\n",
    "\n",
    "model=GradientBoostingClassifier(n_estimators=500,learning_rate=0.1,random_state=0)\n",
    "model.fit(X,Y)\n",
    "pd.Series(model.feature_importances_,X.columns).sort_values(ascending=True).plot.barh(width=0.8,ax=ax[1,0],cmap='RdYlGn_r')\n",
    "ax[1,0].set_title('Feature Importance in Gradient Boosting')\n",
    "\n",
    "model=xg.XGBClassifier(n_estimators=900,learning_rate=0.1)\n",
    "model.fit(X,Y)\n",
    "pd.Series(model.feature_importances_,X.columns).sort_values(ascending=True).plot.barh(width=0.8,ax=ax[1,1],color='#FD0F00')\n",
    "ax[1,1].set_title('Feature Importance in XgBoost')\n",
    "\n",
    "plt.show()"
   ]
  }
 ],
 "metadata": {
  "kernelspec": {
   "display_name": "Python 3",
   "language": "python",
   "name": "python3"
  },
  "language_info": {
   "codemirror_mode": {
    "name": "ipython",
    "version": 3
   },
   "file_extension": ".py",
   "mimetype": "text/x-python",
   "name": "python",
   "nbconvert_exporter": "python",
   "pygments_lexer": "ipython3",
   "version": "3.6.10"
  }
 },
 "nbformat": 4,
 "nbformat_minor": 2
}
